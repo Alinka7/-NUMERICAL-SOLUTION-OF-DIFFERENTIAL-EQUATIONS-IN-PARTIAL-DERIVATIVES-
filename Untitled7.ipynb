{
  "nbformat": 4,
  "nbformat_minor": 0,
  "metadata": {
    "colab": {
      "provenance": [],
      "authorship_tag": "ABX9TyMciQOPflsOGJfhpQwwjg5k",
      "include_colab_link": true
    },
    "kernelspec": {
      "name": "python3",
      "display_name": "Python 3"
    },
    "language_info": {
      "name": "python"
    }
  },
  "cells": [
    {
      "cell_type": "markdown",
      "metadata": {
        "id": "view-in-github",
        "colab_type": "text"
      },
      "source": [
        "<a href=\"https://colab.research.google.com/github/Alinka7/-NUMERICAL-SOLUTION-OF-DIFFERENTIAL-EQUATIONS-IN-PARTIAL-DERIVATIVES-/blob/main/Untitled7.ipynb\" target=\"_parent\"><img src=\"https://colab.research.google.com/assets/colab-badge.svg\" alt=\"Open In Colab\"/></a>"
      ]
    },
    {
      "cell_type": "code",
      "execution_count": 1,
      "metadata": {
        "id": "LHQCYM_1Dl5Z"
      },
      "outputs": [],
      "source": [
        "## Making essential imports\n",
        "import os\n",
        "import numpy as np\n",
        "import pandas as pd\n",
        "import re\n",
        "import matplotlib.pyplot as plt\n",
        "import cv2\n",
        "import tensorflow as tf"
      ]
    },
    {
      "cell_type": "code",
      "source": [
        "from google.colab import drive\n",
        "drive.mount('/content/drive')"
      ],
      "metadata": {
        "colab": {
          "base_uri": "https://localhost:8080/"
        },
        "id": "Qk02-CyZDnMe",
        "outputId": "9cabfa6a-f809-44b2-acb1-d41275f25857"
      },
      "execution_count": 2,
      "outputs": [
        {
          "output_type": "stream",
          "name": "stdout",
          "text": [
            "Mounted at /content/drive\n"
          ]
        }
      ]
    },
    {
      "cell_type": "code",
      "source": [
        "from keras import layers\n",
        "from tensorflow.keras.utils import plot_model\n",
        "import tensorflow as tf\n",
        "from tensorflow.keras.layers import Input, Dense ,Conv2D,MaxPooling2D ,Dropout\n",
        "from tensorflow.keras.layers import Conv2DTranspose, UpSampling2D, add\n",
        "from tensorflow.keras.models import Model\n",
        "from tensorflow.keras import regularizers\n",
        "from tensorflow.keras.utils import plot_model\n",
        "import tensorflow as tf"
      ],
      "metadata": {
        "id": "1iZ6lapNDnO6"
      },
      "execution_count": 3,
      "outputs": []
    },
    {
      "cell_type": "code",
      "source": [
        "framObjTrain = {'img' : [],\n",
        "           'mask' : []\n",
        "          }\n",
        "\n",
        "framObjValidation = {'img' : [],\n",
        "           'mask' : []\n",
        "          }\n",
        "\n",
        "## defining data Loader function\n",
        "def LoadData( frameObj = None, imgPath = None, maskPath = None, shape = 256):\n",
        "    imgNames = os.listdir(imgPath)\n",
        "    maskNames = []\n",
        "    \n",
        "    ## generating mask names\n",
        "    for mem in imgNames:\n",
        "        maskNames.append(re.sub('\\.png', '_L.png', mem))\n",
        "    \n",
        "    imgAddr = imgPath + '/'\n",
        "    maskAddr = maskPath + '/'\n",
        "    \n",
        "    for i in range (len(imgNames)):\n",
        "        img = plt.imread(imgAddr + imgNames[i])\n",
        "        mask = plt.imread(maskAddr + maskNames[i])\n",
        "        \n",
        "        img = cv2.resize(img, (shape, shape)) \n",
        "        mask = cv2.resize(mask, (shape, shape))\n",
        "        \n",
        "        frameObj['img'].append(img)\n",
        "        frameObj['mask'].append(mask)\n",
        "        \n",
        "    return frameObj"
      ],
      "metadata": {
        "id": "YJVD81QsDnRP"
      },
      "execution_count": 4,
      "outputs": []
    },
    {
      "cell_type": "code",
      "source": [
        "framObjTrain = LoadData( framObjTrain,\n",
        "                        imgPath = '/content/drive/MyDrive/Colab Notebooks/CamVid/train', \n",
        "                        maskPath = '/content/drive/MyDrive/Colab Notebooks/CamVid/train_labels'\n",
        "         , shape = 256)"
      ],
      "metadata": {
        "id": "dmbyJcw6DnTe"
      },
      "execution_count": 5,
      "outputs": []
    },
    {
      "cell_type": "code",
      "source": [
        "framObjValidation  = LoadData( framObjValidation,\n",
        "                              imgPath = '/content/drive/MyDrive/Colab Notebooks/CamVid/val',\n",
        "                              maskPath = '/content/drive/MyDrive/Colab Notebooks/CamVid/val_labels'\n",
        "         , shape = 256)"
      ],
      "metadata": {
        "id": "w_Q_9oc1DnWA"
      },
      "execution_count": 6,
      "outputs": []
    },
    {
      "cell_type": "code",
      "source": [
        "## displaying data loaded by our function\n",
        "plt.subplot(1,2,1)\n",
        "plt.imshow(framObjTrain['img'][1])\n",
        "plt.subplot(1,2,2)\n",
        "plt.imshow(framObjTrain['mask'][1])\n",
        "plt.show()"
      ],
      "metadata": {
        "colab": {
          "base_uri": "https://localhost:8080/",
          "height": 204
        },
        "id": "ojECkaHCDnYt",
        "outputId": "e6118b9f-c197-495a-b7cb-c347017912a3"
      },
      "execution_count": 7,
      "outputs": [
        {
          "output_type": "display_data",
          "data": {
            "text/plain": [
              "<Figure size 432x288 with 2 Axes>"
            ],
            "image/png": "[encoded data removed]"
          },
          "metadata": {
            "needs_background": "light"
          }
        }
      ]
    },
    {
      "cell_type": "code",
      "source": [
        "def Conv2dBlock(inputTensor, numFilters, kernelSize = 3, doBatchNorm = True):\n",
        "    #first Conv\n",
        "    x = tf.keras.layers.Conv2D(filters = numFilters, kernel_size = (kernelSize, kernelSize),\n",
        "                              kernel_initializer = 'he_normal', padding = 'same') (inputTensor)\n",
        "    \n",
        "    if doBatchNorm:\n",
        "        x = tf.keras.layers.BatchNormalization()(x)\n",
        "        \n",
        "    x =tf.keras.layers.Activation('relu')(x)\n",
        "    \n",
        "    #Second Conv\n",
        "    x = tf.keras.layers.Conv2D(filters = numFilters, kernel_size = (kernelSize, kernelSize),\n",
        "                              kernel_initializer = 'he_normal', padding = 'same') (x)\n",
        "    if doBatchNorm:\n",
        "        x = tf.keras.layers.BatchNormalization()(x)\n",
        "        \n",
        "    x = tf.keras.layers.Activation('relu')(x)\n",
        "    \n",
        "    return x\n",
        "\n",
        "\n",
        "# Now defining Unet \n",
        "def GiveMeUnet(inputImage, numFilters = 16, droupouts = 0.1, doBatchNorm = True):\n",
        "    # defining encoder Path\n",
        "    c1 = Conv2dBlock(inputImage, numFilters * 1, kernelSize = 3, doBatchNorm = doBatchNorm)\n",
        "    p1 = tf.keras.layers.MaxPooling2D((2,2))(c1)\n",
        "    p1 = tf.keras.layers.Dropout(droupouts)(p1)\n",
        "    \n",
        "    c2 = Conv2dBlock(p1, numFilters * 2, kernelSize = 3, doBatchNorm = doBatchNorm)\n",
        "    p2 = tf.keras.layers.MaxPooling2D((2,2))(c2)\n",
        "    p2 = tf.keras.layers.Dropout(droupouts)(p2)\n",
        "    \n",
        "    c3 = Conv2dBlock(p2, numFilters * 4, kernelSize = 3, doBatchNorm = doBatchNorm)\n",
        "    p3 = tf.keras.layers.MaxPooling2D((2,2))(c3)\n",
        "    p3 = tf.keras.layers.Dropout(droupouts)(p3)\n",
        "    \n",
        "    c4 = Conv2dBlock(p3, numFilters * 8, kernelSize = 3, doBatchNorm = doBatchNorm)\n",
        "    p4 = tf.keras.layers.MaxPooling2D((2,2))(c4)\n",
        "    p4 = tf.keras.layers.Dropout(droupouts)(p4)\n",
        "    \n",
        "    c5 = Conv2dBlock(p4, numFilters * 16, kernelSize = 3, doBatchNorm = doBatchNorm)\n",
        "    \n",
        "    # defining decoder path\n",
        "    u6 = tf.keras.layers.Conv2DTranspose(numFilters*8, (3, 3), strides = (2, 2), padding = 'same')(c5)\n",
        "    u6 = tf.keras.layers.concatenate([u6, c4])\n",
        "    u6 = tf.keras.layers.Dropout(droupouts)(u6)\n",
        "    c6 = Conv2dBlock(u6, numFilters * 8, kernelSize = 3, doBatchNorm = doBatchNorm)\n",
        "    \n",
        "    u7 = tf.keras.layers.Conv2DTranspose(numFilters*4, (3, 3), strides = (2, 2), padding = 'same')(c6)\n",
        "    \n",
        "    u7 = tf.keras.layers.concatenate([u7, c3])\n",
        "    u7 = tf.keras.layers.Dropout(droupouts)(u7)\n",
        "    c7 = Conv2dBlock(u7, numFilters * 4, kernelSize = 3, doBatchNorm = doBatchNorm)\n",
        "    \n",
        "    u8 = tf.keras.layers.Conv2DTranspose(numFilters*2, (3, 3), strides = (2, 2), padding = 'same')(c7)\n",
        "    u8 = tf.keras.layers.concatenate([u8, c2])\n",
        "    u8 = tf.keras.layers.Dropout(droupouts)(u8)\n",
        "    c8 = Conv2dBlock(u8, numFilters * 2, kernelSize = 3, doBatchNorm = doBatchNorm)\n",
        "    \n",
        "    u9 = tf.keras.layers.Conv2DTranspose(numFilters*1, (3, 3), strides = (2, 2), padding = 'same')(c8)\n",
        "    u9 = tf.keras.layers.concatenate([u9, c1])\n",
        "    u9 = tf.keras.layers.Dropout(droupouts)(u9)\n",
        "    c9 = Conv2dBlock(u9, numFilters * 1, kernelSize = 3, doBatchNorm = doBatchNorm)\n",
        "    \n",
        "    output = tf.keras.layers.Conv2D(3, (1, 1), activation = 'sigmoid')(c9)\n",
        "    model = tf.keras.Model(inputs = [inputImage], outputs = [output])\n",
        "    return model\n"
      ],
      "metadata": {
        "id": "znFMz-jcDnbB"
      },
      "execution_count": 8,
      "outputs": []
    },
    {
      "cell_type": "code",
      "source": [
        "## instanctiating model\n",
        "inputs = tf.keras.layers.Input((256, 256, 3))\n",
        "myTransformer = GiveMeUnet(inputs, droupouts= 0.07)\n",
        "myTransformer.compile(optimizer = 'Adam', loss = 'binary_crossentropy', metrics = ['accuracy'] )"
      ],
      "metadata": {
        "id": "uPBaUjdlDndK"
      },
      "execution_count": 9,
      "outputs": []
    },
    {
      "cell_type": "code",
      "source": [
        "myTransformer.fit(np.array(framObjTrain['img']), np.array(framObjTrain['mask']), epochs = 50)"
      ],
      "metadata": {
        "colab": {
          "base_uri": "https://localhost:8080/"
        },
        "id": "ne_N3f2qDnf5",
        "outputId": "9924158d-377b-4788-fa3b-a673b15ac240"
      },
      "execution_count": null,
      "outputs": [
        {
          "output_type": "stream",
          "name": "stdout",
          "text": [
            "Epoch 1/50\n",
            "12/12 [==============================] - 371s 30s/step - loss: 0.7110 - accuracy: 0.4367\n",
            "Epoch 2/50\n",
            "12/12 [==============================] - 366s 30s/step - loss: 0.6401 - accuracy: 0.4731\n",
            "Epoch 3/50\n",
            "12/12 [==============================] - 369s 31s/step - loss: 0.6106 - accuracy: 0.5352\n",
            "Epoch 4/50\n",
            "12/12 [==============================] - 369s 31s/step - loss: 0.5915 - accuracy: 0.5251\n",
            "Epoch 5/50\n",
            "12/12 [==============================] - 368s 31s/step - loss: 0.5784 - accuracy: 0.5409\n",
            "Epoch 6/50\n",
            "12/12 [==============================] - 364s 30s/step - loss: 0.5683 - accuracy: 0.5528\n",
            "Epoch 7/50\n",
            "12/12 [==============================] - 368s 30s/step - loss: 0.5623 - accuracy: 0.5578\n",
            "Epoch 8/50\n",
            "12/12 [==============================] - 370s 31s/step - loss: 0.5550 - accuracy: 0.5584\n",
            "Epoch 9/50\n",
            "12/12 [==============================] - 362s 30s/step - loss: 0.5505 - accuracy: 0.5641\n",
            "Epoch 10/50\n",
            "12/12 [==============================] - 367s 30s/step - loss: 0.5474 - accuracy: 0.5694\n",
            "Epoch 11/50\n",
            "12/12 [==============================] - 359s 30s/step - loss: 0.5428 - accuracy: 0.5825\n",
            "Epoch 12/50\n",
            "12/12 [==============================] - 365s 30s/step - loss: 0.5389 - accuracy: 0.5820\n",
            "Epoch 13/50\n",
            "12/12 [==============================] - 367s 31s/step - loss: 0.5352 - accuracy: 0.5769\n",
            "Epoch 14/50\n",
            "12/12 [==============================] - 360s 30s/step - loss: 0.5336 - accuracy: 0.5949\n",
            "Epoch 15/50\n",
            "12/12 [==============================] - 367s 31s/step - loss: 0.5325 - accuracy: 0.5551\n",
            "Epoch 16/50\n",
            "12/12 [==============================] - 360s 30s/step - loss: 0.5310 - accuracy: 0.5850\n",
            "Epoch 17/50\n",
            "12/12 [==============================] - 362s 30s/step - loss: 0.5306 - accuracy: 0.5536\n",
            "Epoch 18/50\n",
            "12/12 [==============================] - 364s 30s/step - loss: 0.5285 - accuracy: 0.5622\n",
            "Epoch 19/50\n",
            "12/12 [==============================] - 359s 30s/step - loss: 0.5271 - accuracy: 0.6030\n",
            "Epoch 20/50\n",
            "12/12 [==============================] - 359s 30s/step - loss: 0.5270 - accuracy: 0.5589\n",
            "Epoch 21/50\n",
            "12/12 [==============================] - 362s 30s/step - loss: 0.5246 - accuracy: 0.5888\n",
            "Epoch 22/50\n",
            "12/12 [==============================] - 368s 30s/step - loss: 0.5233 - accuracy: 0.5645\n",
            "Epoch 23/50\n",
            "12/12 [==============================] - 362s 30s/step - loss: 0.5224 - accuracy: 0.5885\n",
            "Epoch 24/50\n",
            "12/12 [==============================] - 361s 30s/step - loss: 0.5279 - accuracy: 0.5891\n",
            "Epoch 25/50\n",
            "12/12 [==============================] - 359s 30s/step - loss: 0.5298 - accuracy: 0.5716\n",
            "Epoch 26/50\n",
            "12/12 [==============================] - 360s 30s/step - loss: 0.5266 - accuracy: 0.5526\n",
            "Epoch 27/50\n",
            "12/12 [==============================] - 362s 30s/step - loss: 0.5246 - accuracy: 0.5569\n",
            "Epoch 28/50\n",
            "12/12 [==============================] - 359s 30s/step - loss: 0.5240 - accuracy: 0.5544\n",
            "Epoch 29/50\n",
            "12/12 [==============================] - 361s 30s/step - loss: 0.5217 - accuracy: 0.5629\n",
            "Epoch 30/50\n",
            "12/12 [==============================] - 359s 30s/step - loss: 0.5201 - accuracy: 0.5616\n",
            "Epoch 31/50\n",
            "12/12 [==============================] - 359s 30s/step - loss: 0.5186 - accuracy: 0.5569\n",
            "Epoch 32/50\n",
            "12/12 [==============================] - 358s 30s/step - loss: 0.5179 - accuracy: 0.5503\n",
            "Epoch 33/50\n",
            "12/12 [==============================] - 359s 30s/step - loss: 0.5176 - accuracy: 0.5911\n",
            "Epoch 34/50\n",
            "12/12 [==============================] - 359s 30s/step - loss: 0.5165 - accuracy: 0.5562\n",
            "Epoch 35/50\n",
            "12/12 [==============================] - 360s 30s/step - loss: 0.5152 - accuracy: 0.5582\n",
            "Epoch 36/50\n",
            "12/12 [==============================] - 358s 30s/step - loss: 0.5152 - accuracy: 0.5412\n",
            "Epoch 37/50\n",
            "12/12 [==============================] - 357s 30s/step - loss: 0.5139 - accuracy: 0.5851\n",
            "Epoch 38/50\n",
            "12/12 [==============================] - 357s 30s/step - loss: 0.5134 - accuracy: 0.5598\n",
            "Epoch 39/50\n",
            "12/12 [==============================] - 357s 30s/step - loss: 0.5124 - accuracy: 0.5630\n",
            "Epoch 40/50\n",
            "12/12 [==============================] - 360s 30s/step - loss: 0.5121 - accuracy: 0.5701\n",
            "Epoch 41/50\n",
            "12/12 [==============================] - 366s 30s/step - loss: 0.5112 - accuracy: 0.5674\n",
            "Epoch 42/50\n",
            "10/12 [========================>.....] - ETA: 1:02 - loss: 0.5094 - accuracy: 0.5630"
          ]
        }
      ]
    },
    {
      "cell_type": "code",
      "source": [
        "# function for getting 16 predictions\n",
        "def predict16 (valMap, model, shape = 256):\n",
        "    ## getting and proccessing val data\n",
        "    img = valMap['img']\n",
        "    mask = valMap['mask']\n",
        "    mask = mask[0:16]\n",
        "    \n",
        "    imgProc = img [0:16]\n",
        "    imgProc = np.array(img)\n",
        "    \n",
        "    predictions = model.predict(imgProc)\n",
        "    for i in range(len(predictions)):\n",
        "        predictions[i] = cv2.merge((predictions[i,:,:,0],predictions[i,:,:,1],predictions[i,:,:,2]))\n",
        "    \n",
        "    return predictions, imgProc, mask\n",
        "    \n",
        "\n",
        "    \n",
        "    \n",
        "def Plotter(img, predMask, groundTruth):\n",
        "    plt.figure(figsize=(7,7))\n",
        "    \n",
        "    plt.subplot(1,3,1)\n",
        "    plt.imshow(img)\n",
        "    plt.title('image')\n",
        "    \n",
        "    plt.subplot(1,3,2)\n",
        "    plt.imshow(predMask)\n",
        "    plt.title('Predicted Mask')\n",
        "    \n",
        "    plt.subplot(1,3,3)\n",
        "    plt.imshow(groundTruth)\n",
        "    plt.title('actual Mask')\n",
        "    "
      ],
      "metadata": {
        "id": "R8Mus54BDnk9"
      },
      "execution_count": 23,
      "outputs": []
    },
    {
      "cell_type": "code",
      "source": [
        "sixteenPrediction, actuals, masks = predict16(framObjValidation, myTransformer)"
      ],
      "metadata": {
        "id": "fSpsZWcUDnnj"
      },
      "execution_count": null,
      "outputs": []
    },
    {
      "cell_type": "code",
      "source": [
        "Plotter(actuals[1], sixteenPrediction[1], masks[1])"
      ],
      "metadata": {
        "id": "5_Rmbe5QDnqZ"
      },
      "execution_count": null,
      "outputs": []
    },
    {
      "cell_type": "code",
      "source": [],
      "metadata": {
        "id": "1aGGSh13Dnsu"
      },
      "execution_count": null,
      "outputs": []
    },
    {
      "cell_type": "code",
      "source": [],
      "metadata": {
        "id": "_kBKdnGDDnuy"
      },
      "execution_count": null,
      "outputs": []
    }
  ]
}
{
  "nbformat": 4,
  "nbformat_minor": 0,
  "metadata": {
    "kernelspec": {
      "display_name": "Python 3",
      "language": "python",
      "name": "python3"
    },
    "language_info": {
      "codemirror_mode": {
        "name": "ipython",
        "version": 3
      },
      "file_extension": ".py",
      "mimetype": "text/x-python",
      "name": "python",
      "nbconvert_exporter": "python",
      "pygments_lexer": "ipython3",
      "version": "3.7.6"
    },
    "colab": {
      "name": "data types.ipynb",
      "provenance": [],
      "include_colab_link": true
    }
  },
  "cells": [
    {
      "cell_type": "markdown",
      "metadata": {
        "id": "view-in-github",
        "colab_type": "text"
      },
      "source": [
        "<a href=\"https://colab.research.google.com/github/Alinka7/-NUMERICAL-SOLUTION-OF-DIFFERENTIAL-EQUATIONS-IN-PARTIAL-DERIVATIVES-/blob/master/data_types.ipynb\" target=\"_parent\"><img src=\"https://colab.research.google.com/assets/colab-badge.svg\" alt=\"Open In Colab\"/></a>"
      ]
    },
    {
      "cell_type": "markdown",
      "metadata": {
        "id": "SuveWLXwcoN4"
      },
      "source": [
        "### What is data type?"
      ]
    },
    {
      "cell_type": "markdown",
      "metadata": {
        "id": "J95qsc7ucoN_"
      },
      "source": [
        "A data type is a classification of data which tells the compiler or interpreter how the programmer intends to use the data. Most programming languages support various types of data, including integer, real, character or string, and Boolean.\n",
        "\n",
        "Careful understanding of data types and data structures is one of the most important\n",
        "basic skills you can gain as a programmer.\n",
        "\n",
        "So let's get acquainted with the data types in Python\n"
      ]
    },
    {
      "cell_type": "markdown",
      "metadata": {
        "id": "dH8hfMlQcoOB"
      },
      "source": [
        "### Numeric Types "
      ]
    },
    {
      "cell_type": "markdown",
      "metadata": {
        "id": "pDVzwfCWcoOC"
      },
      "source": [
        "#### What are numeric types?"
      ]
    },
    {
      "cell_type": "markdown",
      "metadata": {
        "id": "-3bz4YRrcoOD"
      },
      "source": [
        "Number data types stire numeric values. They are **immutable** data types.\n",
        "**Immutable** is when no change is possible over time.\n",
        "\n",
        "In python there are three different numerical types\n",
        "- **integers**. It is a whole number, positive or negative, without decimals, of unlimited length.\n",
        "- **floating point numbers**. It is any number with a decimal point. \n",
        "- **complex numbers**. It is an extension of the familiar real number system in which all numbers are expressed as a sum of a real part and an imaginary part.\n",
        "\n",
        "Variables of numeric types are created when you assign a value to them"
      ]
    },
    {
      "cell_type": "markdown",
      "metadata": {
        "id": "MnbGZ1VlcoOD"
      },
      "source": [
        "### Integers "
      ]
    },
    {
      "cell_type": "markdown",
      "metadata": {
        "id": "W2AMMFllcoOE"
      },
      "source": [
        "`Int`, or `integer`, is a whole number, positive or negative, without decimals, of unlimited length.\n",
        "To verify the type of any object in Python, use the `type()` function."
      ]
    },
    {
      "cell_type": "code",
      "metadata": {
        "id": "uLuEtsKxcoOF",
        "outputId": "a94458b6-325b-4755-c2f3-577d6c24edd8"
      },
      "source": [
        "x = 7\n",
        "y = -10000\n",
        "print(f'it`s x: {x}')\n",
        "print(f'it`s y: {y}')"
      ],
      "execution_count": null,
      "outputs": [
        {
          "output_type": "stream",
          "text": [
            "it`s x: 7\n",
            "it`s y: -10000\n"
          ],
          "name": "stdout"
        }
      ]
    },
    {
      "cell_type": "code",
      "metadata": {
        "id": "uEly2fgGcoOG",
        "outputId": "d93a252a-a65f-43af-f5e1-b6c44da81cee"
      },
      "source": [
        "print(f' the type of x is {type(x)}')\n",
        "print(f' the type of y is {type(y)}')\n"
      ],
      "execution_count": null,
      "outputs": [
        {
          "output_type": "stream",
          "text": [
            " the type of x is <class 'int'>\n",
            " the type of y is <class 'int'>\n"
          ],
          "name": "stdout"
        }
      ]
    },
    {
      "cell_type": "markdown",
      "metadata": {
        "id": "ZDa6yeCEcoOI"
      },
      "source": [
        "\n",
        "Integers are a commonly used data type in computer programming. For example, whenever a number is being incremented, such as within a \"for loop\" or \"while loop,\" an integer is used. Integers are also used to determine an item's location within an array."
      ]
    },
    {
      "cell_type": "markdown",
      "metadata": {
        "id": "Aqov37cbcoOI"
      },
      "source": [
        "Create three variables : `a, b, c` with the following values: `100, -5, -12350`. And check the type of this object."
      ]
    },
    {
      "cell_type": "code",
      "metadata": {
        "id": "2q-gK1uScoOJ",
        "outputId": "186635e6-3cd6-4975-c7bd-ec556a47aa14"
      },
      "source": [
        "a = 100\n",
        "b = -5\n",
        "c = -12350\n",
        "print(f'it`s a: {a}, the type of a is {type(a)}')\n",
        "print(f'it`s b: {b}, the type of b is {type(b)}')\n",
        "print(f'it`s c: {c}, the type of c is {type(c)}')\n"
      ],
      "execution_count": null,
      "outputs": [
        {
          "output_type": "stream",
          "text": [
            "it`s a: 100, the type of a is <class 'int'>\n",
            "it`s b: -5, the type of b is <class 'int'>\n",
            "it`s c: -12350, the type of c is <class 'int'>\n"
          ],
          "name": "stdout"
        }
      ]
    },
    {
      "cell_type": "markdown",
      "metadata": {
        "id": "qOjNIo3QcoOK"
      },
      "source": [
        "### Floating Point Numbers"
      ]
    },
    {
      "cell_type": "markdown",
      "metadata": {
        "id": "x70IlppGcoOL"
      },
      "source": [
        "`Float`, or `floating point number` is a number, positive or negative, containing one or more decimals.\n",
        "\n",
        "`Float` is used to represent real numbers and is written with a decimal point dividing the integer and fractional parts. For example, 23.34, 29.4+e19, -12.32e100 all are floating point numbers"
      ]
    },
    {
      "cell_type": "code",
      "metadata": {
        "id": "11zcxyoJcoOL",
        "outputId": "8f5191f0-036c-45e6-dfc5-6205ebb22436"
      },
      "source": [
        "x = 100.12\n",
        "y = -5.5632\n",
        "z = -12350.0\n",
        "print(f'it`s x: {x}, the type of x is {type(x)}')\n",
        "print(f'it`s y: {y}, the type of y is {type(y)}')\n",
        "print(f'it`s z: {z}, the type of z is {type(z)}')\n"
      ],
      "execution_count": null,
      "outputs": [
        {
          "output_type": "stream",
          "text": [
            "it`s x: 100.12, the type of x is <class 'float'>\n",
            "it`s y: -5.5632, the type of y is <class 'float'>\n",
            "it`s z: -12350.0, the type of z is <class 'float'>\n"
          ],
          "name": "stdout"
        }
      ]
    },
    {
      "cell_type": "markdown",
      "metadata": {
        "id": "wP-SiBhIcoON"
      },
      "source": [
        "Float can also be scientific numbers with an \"e\" to indicate the power of 10."
      ]
    },
    {
      "cell_type": "code",
      "metadata": {
        "id": "4DG8jhzOcoON",
        "outputId": "d53ddc3e-872b-4e9f-cf9e-6daca9e06a46"
      },
      "source": [
        "x = 234e5\n",
        "y = 19E4\n",
        "z = -11.2e100\n",
        "\n",
        "print(f'it`s x: {x}, the type of x is {type(x)}')\n",
        "print(f'it`s y: {y}, the type of y is {type(y)}')\n",
        "print(f'it`s z: {z}, the type of z is {type(z)}')"
      ],
      "execution_count": null,
      "outputs": [
        {
          "output_type": "stream",
          "text": [
            "it`s x: 23400000.0, the type of x is <class 'float'>\n",
            "it`s y: 190000.0, the type of y is <class 'float'>\n",
            "it`s z: -1.12e+101, the type of z is <class 'float'>\n"
          ],
          "name": "stdout"
        }
      ]
    },
    {
      "cell_type": "markdown",
      "metadata": {
        "id": "U-OllB7RcoOO"
      },
      "source": [
        "Create three variables : `a, b, c` with the following values: `2495e4, -5.0, 985.5067`. And check the type of this object."
      ]
    },
    {
      "cell_type": "code",
      "metadata": {
        "id": "lfv0-b5EcoOP",
        "outputId": "8daad24b-46bb-4b13-bc68-79f7c658913c"
      },
      "source": [
        "a = 2495e4\n",
        "b = -5.0\n",
        "c = 985.5067\n",
        "print(f'it`s a: {a}, the type of a is {type(a)}')\n",
        "print(f'it`s b: {b}, the type of b is {type(b)}')\n",
        "print(f'it`s c: {c}, the type of c is {type(c)}')\n"
      ],
      "execution_count": null,
      "outputs": [
        {
          "output_type": "stream",
          "text": [
            "it`s a: 24950000.0, the type of a is <class 'float'>\n",
            "it`s b: -5.0, the type of b is <class 'float'>\n",
            "it`s c: 985.5067, the type of c is <class 'float'>\n"
          ],
          "name": "stdout"
        }
      ]
    },
    {
      "cell_type": "markdown",
      "metadata": {
        "id": "AV10w89icoOP"
      },
      "source": [
        "### Complex Numbers "
      ]
    },
    {
      "cell_type": "markdown",
      "metadata": {
        "id": "3VrdMs50coOQ"
      },
      "source": [
        "`Complex` numbers are an extension of the familiar real number system in which all numbers are expressed as a sum of a real part and an imaginary part. \n",
        "\n",
        "Python has built-in support for complex numbers, which are written with this latter notation, the imaginary part is written with a `j` suffix"
      ]
    },
    {
      "cell_type": "code",
      "metadata": {
        "id": "xG-hl4AQcoOQ",
        "outputId": "5f13fc44-d6a9-4472-972f-9549d2a6a2eb"
      },
      "source": [
        "x = 3543+52j\n",
        "y = 2.5j\n",
        "z = -588j\n",
        "\n",
        "print(f'it`s x: {x}, the type of x is {type(x)}')\n",
        "print(f'it`s y: {y}, the type of y is {type(y)}')\n",
        "print(f'it`s z: {z}, the type of z is {type(z)}')"
      ],
      "execution_count": null,
      "outputs": [
        {
          "output_type": "stream",
          "text": [
            "it`s x: (3543+52j), the type of x is <class 'complex'>\n",
            "it`s y: 2.5j, the type of y is <class 'complex'>\n",
            "it`s z: (-0-588j), the type of z is <class 'complex'>\n"
          ],
          "name": "stdout"
        }
      ]
    },
    {
      "cell_type": "markdown",
      "metadata": {
        "id": "tdDXekWncoOR"
      },
      "source": [
        "Create three variables : `a, b, c` with the following values: `-7+3j, 1.4+6.7j, -65j`. And check the type of this object."
      ]
    },
    {
      "cell_type": "code",
      "metadata": {
        "id": "dIfS7EcxcoOR",
        "outputId": "eb53e449-ec1b-4460-c9a5-2e5e6b86b247"
      },
      "source": [
        "a = -7+3j\n",
        "b = 1.4+6.7j\n",
        "c = -65j\n",
        "print(f'it`s a: {a}, the type of a is {type(a)}')\n",
        "print(f'it`s b: {b}, the type of b is {type(b)}')\n",
        "print(f'it`s c: {c}, the type of c is {type(c)}')\n"
      ],
      "execution_count": null,
      "outputs": [
        {
          "output_type": "stream",
          "text": [
            "it`s a: (-7+3j), the type of a is <class 'complex'>\n",
            "it`s b: (1.4+6.7j), the type of b is <class 'complex'>\n",
            "it`s c: (-0-65j), the type of c is <class 'complex'>\n"
          ],
          "name": "stdout"
        }
      ]
    },
    {
      "cell_type": "markdown",
      "metadata": {
        "id": "ZLV8Ij57coOR"
      },
      "source": [
        "#### Python int() "
      ]
    },
    {
      "cell_type": "markdown",
      "metadata": {
        "id": "CfrQGihtcoOR"
      },
      "source": [
        "The `int()` method returns an integer object from any number or string.\n",
        "\n",
        "**The syntax of `int()` method is**:\n",
        "`int(x=0, base=10)`\n",
        "Parameters:\n",
        "- x - Number or string to be converted to integer object. The default argument is zero.\n",
        "- base - Base of the number in x. Can be 0 (code literal) or 2-36.\n",
        "\n",
        "**Return value**:\n",
        "- an integer object from the given number or string treats default base as 10\n",
        "- (No parameters) returns 0\n",
        "- (If base given) treats the string in the given base (0, 2, 8, 10, 16)\n",
        "\n",
        "**How `int()` works in Python?**"
      ]
    },
    {
      "cell_type": "code",
      "metadata": {
        "id": "0fWz42VWcoOS",
        "outputId": "365e162d-0e2b-40db-b0a5-c5050de9954d"
      },
      "source": [
        "x = 65.98234\n",
        "y = 7.53\n",
        "z = 54\n",
        "\n",
        "print(f'integer object from {x} is {int(x)}')\n",
        "print(f'integer object from {y} is {int(y)}')\n",
        "print(f'integer object from {z} is {int(z)}')"
      ],
      "execution_count": null,
      "outputs": [
        {
          "output_type": "stream",
          "text": [
            "integer object from 65.98234 is 65\n",
            "integer object from 7.53 is 7\n",
            "integer object from 54 is 54\n"
          ],
          "name": "stdout"
        }
      ]
    },
    {
      "cell_type": "markdown",
      "metadata": {
        "id": "9fwBdxuEcoOS"
      },
      "source": [
        "### Python float()"
      ]
    },
    {
      "cell_type": "markdown",
      "metadata": {
        "id": "VHsEOynncoOT"
      },
      "source": [
        "The `float()` method returns a floating point number from a number or a string.\n",
        "\n",
        "**The syntax of `float()` method is**:\n",
        "`float([x])`\n",
        "Parameters:\n",
        "- x (Optional) - number or string that needs to be converted to floating point number. If it's a string, the string should contain decimal points\n",
        "\n",
        "**Return value**:\n",
        "- Equivalent floating point number if an argument is passed\n",
        "- 0.0 if no arguments passed\n",
        "- OverflowError exception if the argument is outside the range of Python float\n",
        "\n",
        "**How `float()` works in Python?**"
      ]
    },
    {
      "cell_type": "code",
      "metadata": {
        "id": "nUviQBT3coOT",
        "outputId": "023f1752-9036-4c7c-806c-7d52ada8d9d0"
      },
      "source": [
        "x = 65.98234\n",
        "y = 7\n",
        "z = 54\n",
        "\n",
        "print(f'a floating point number from  {x} is {float(x)}')\n",
        "print(f'a floating point number from  {y} is {float(y)}')\n",
        "print(f'a floating point number from  {z} is {float(z)}')"
      ],
      "execution_count": null,
      "outputs": [
        {
          "output_type": "stream",
          "text": [
            "a floating point number from  65.98234 is 65.98234\n",
            "a floating point number from  7 is 7.0\n",
            "a floating point number from  54 is 54.0\n"
          ],
          "name": "stdout"
        }
      ]
    },
    {
      "cell_type": "markdown",
      "metadata": {
        "id": "vlCT1sp8coOT"
      },
      "source": [
        "### Python complex() "
      ]
    },
    {
      "cell_type": "markdown",
      "metadata": {
        "id": "N-j5C-ggcoOT"
      },
      "source": [
        "The `complex()` method returns a complex number when real and imaginary parts are provided, or it converts a string to a complex number.\n",
        "\n",
        "**The syntax of `complex()` method is**:\n",
        "`complex([real[, imag]])`\n",
        "Parameters:\n",
        "- real - real part. If real is omitted, it defaults to 0.\n",
        "- imag - imaginary part. If imag is omitted, it defaults to 0.\n",
        "\n",
        "**Return value**:\n",
        "- As suggested by the name, complex() method returns a complex number.\n",
        "\n",
        "- If the string passed to this method is not a valid complex number, ValueError exception is raised.\n",
        "\n",
        "**How `complex()` works in Python?**"
      ]
    },
    {
      "cell_type": "code",
      "metadata": {
        "id": "OPFqWLkBcoOU",
        "outputId": "1825fb49-c1a3-4872-db31-d0a1173c92fd"
      },
      "source": [
        "x = 65.98234\n",
        "y = 7+4j\n",
        "z = 54\n",
        "\n",
        "print(f'a floating point number from  {x} is {complex(x)}')\n",
        "print(f'a floating point number from  {y} is {complex(y)}')\n",
        "print(f'a floating point number from  {z} is {complex(z)}')"
      ],
      "execution_count": null,
      "outputs": [
        {
          "output_type": "stream",
          "text": [
            "a floating point number from  65.98234 is (65.98234+0j)\n",
            "a floating point number from  (7+4j) is (7+4j)\n",
            "a floating point number from  54 is (54+0j)\n"
          ],
          "name": "stdout"
        }
      ]
    },
    {
      "cell_type": "markdown",
      "metadata": {
        "id": "K193zKIacoOU"
      },
      "source": [
        "### Arithmetic operation "
      ]
    },
    {
      "cell_type": "markdown",
      "metadata": {
        "id": "0K9Suz-lcoOU"
      },
      "source": [
        "Mathematical operations, such as addition, subtraction, multiplication, and division, are called arithmetic operations. \n",
        "Python provides arithmetic operators that allow you to perform arithmetic operations. The following include arithmetic operations in Python, along with their meaning:"
      ]
    },
    {
      "cell_type": "markdown",
      "metadata": {
        "id": "RY0iHGsQcoOU"
      },
      "source": [
        "\n",
        "</style>\n",
        "</head>\n",
        "<body>\n",
        "\n",
        "\n",
        "<table>\n",
        "  <tr>\n",
        "    <th>Operator</th>\n",
        "    <th>Meaning</th>\n",
        "  </tr>\n",
        "  <tr>\n",
        "    <td> + </td>\n",
        "    <td>Addition of two operands.</td>\n",
        "  </tr>\n",
        "  <tr>\n",
        "    <td> - </td>\n",
        "    <td>Subtraction of the first operand (left operand) from the second operand (right operand)</td>\n",
        "  </tr>\n",
        "  <tr>\n",
        "    <td> * </td>\n",
        "    <td>\tMultiplication of two operands.</td>\n",
        "  </tr>\n",
        "  <tr>\n",
        "    <td> / </td>\n",
        "    <td>Division of two operands.</td>\n",
        "  </tr>\n",
        "  <tr>\n",
        "    <td> % </td>\n",
        "    <td>Modulus. The remainder of the division of two operands.</td>\n",
        "  </tr>\n",
        "  <tr>\n",
        "    <td> // </td>\n",
        "    <td>\tFloor division. It always returns the floor value for integers and floats.</td>\n",
        "  </tr>\n",
        "      <tr>\n",
        "    <td> ** </td>\n",
        "    <td>Exponent. The first operand is raised to the power of the second operand.</td>\n",
        "  </tr>\n",
        "</table>\n",
        "    </body>\n",
        "</html>\n",
        "\n"
      ]
    },
    {
      "cell_type": "markdown",
      "metadata": {
        "id": "AP804x3KcoOU"
      },
      "source": [
        "### Using Arithmetic Operators in Python "
      ]
    },
    {
      "cell_type": "markdown",
      "metadata": {
        "id": "VvqVIbmXcoOU"
      },
      "source": [
        "Let's look at an example pf using arithmetic operators in Python. We will perform an arithmetic operation using the arithmetic operator."
      ]
    },
    {
      "cell_type": "markdown",
      "metadata": {
        "id": "Vg8-KG20coOU"
      },
      "source": [
        "#### Addition "
      ]
    },
    {
      "cell_type": "code",
      "metadata": {
        "id": "Pj8NlFg9coOV",
        "outputId": "104dc279-01d2-4bda-9a40-e207fbe915cd"
      },
      "source": [
        "num1 = 5\n",
        "num2 = 34.5\n",
        "\n",
        "print(f'the sum of {num1} and {num2} is {num1+num2}')"
      ],
      "execution_count": null,
      "outputs": [
        {
          "output_type": "stream",
          "text": [
            "the sum of 5 and 34.5 is 39.5\n"
          ],
          "name": "stdout"
        }
      ]
    },
    {
      "cell_type": "markdown",
      "metadata": {
        "id": "8UYuVXHLcoOV"
      },
      "source": [
        "You have 2 integers, add them."
      ]
    },
    {
      "cell_type": "code",
      "metadata": {
        "id": "Gc2MeyqNcoOV",
        "outputId": "18bd048e-15f5-4e4b-8eea-5342ffdf498b"
      },
      "source": [
        "a = 245\n",
        "b = 653\n",
        "\n",
        "print(f'the sum is {a+b}')"
      ],
      "execution_count": null,
      "outputs": [
        {
          "output_type": "stream",
          "text": [
            "the sum is 898\n"
          ],
          "name": "stdout"
        }
      ]
    },
    {
      "cell_type": "markdown",
      "metadata": {
        "id": "7_IPfuZbcoOV"
      },
      "source": [
        "You have 2 floating point numbers, add them."
      ]
    },
    {
      "cell_type": "code",
      "metadata": {
        "id": "dpSN3S65coOV",
        "outputId": "d4b1e497-20f9-4e70-df61-58c986e870d0"
      },
      "source": [
        "a = 43.6\n",
        "b = 876.855\n",
        "\n",
        "print(f'the sum is {a+b}')"
      ],
      "execution_count": null,
      "outputs": [
        {
          "output_type": "stream",
          "text": [
            "the sum is 920.455\n"
          ],
          "name": "stdout"
        }
      ]
    },
    {
      "cell_type": "markdown",
      "metadata": {
        "id": "FRBFum4pcoOV"
      },
      "source": [
        "You have 2 complex numbers, add them."
      ]
    },
    {
      "cell_type": "code",
      "metadata": {
        "id": "1ZKXUfO9coOV",
        "outputId": "064f6a1e-580d-4aac-b93e-2ece19a31429"
      },
      "source": [
        "a = 43.6 + 4j\n",
        "b = 876.855 + 235.234j\n",
        "\n",
        "print(f'the sum is {a+b}')"
      ],
      "execution_count": null,
      "outputs": [
        {
          "output_type": "stream",
          "text": [
            "the sum is (920.455+239.234j)\n"
          ],
          "name": "stdout"
        }
      ]
    },
    {
      "cell_type": "markdown",
      "metadata": {
        "id": "4EvarwaOcoOW"
      },
      "source": [
        "####  Subtraction"
      ]
    },
    {
      "cell_type": "code",
      "metadata": {
        "id": "o9ZUN-KBcoOW",
        "outputId": "62d8c151-734c-4044-f69a-991cdcbea5f4"
      },
      "source": [
        "num1 = 5\n",
        "num2 = 34.5\n",
        "\n",
        "print(f'the subtraction of {num1} and {num2} is {num1-num2}')"
      ],
      "execution_count": null,
      "outputs": [
        {
          "output_type": "stream",
          "text": [
            "the subtraction of 5 and 34.5 is -29.5\n"
          ],
          "name": "stdout"
        }
      ]
    },
    {
      "cell_type": "code",
      "metadata": {
        "id": "XixDRs36coOW"
      },
      "source": [
        "You have 2 integers, subtract them."
      ],
      "execution_count": null,
      "outputs": []
    },
    {
      "cell_type": "code",
      "metadata": {
        "id": "iLKU7SThcoOW"
      },
      "source": [
        "a = 245\n",
        "b = 653\n",
        "\n",
        "print(f'the subtract is {a-b}')"
      ],
      "execution_count": null,
      "outputs": []
    },
    {
      "cell_type": "code",
      "metadata": {
        "id": "uMxW7JZbcoOW"
      },
      "source": [
        "You have 2 floating point numbers, subtract them."
      ],
      "execution_count": null,
      "outputs": []
    },
    {
      "cell_type": "code",
      "metadata": {
        "id": "zip5KTfscoOW",
        "outputId": "48e91453-5a06-4189-cdcf-14c73168f051"
      },
      "source": [
        "a = 43.6\n",
        "b = 876.855\n",
        "\n",
        "print(f'the subtract is {a-b}')"
      ],
      "execution_count": null,
      "outputs": [
        {
          "output_type": "stream",
          "text": [
            "the subtract is -833.255\n"
          ],
          "name": "stdout"
        }
      ]
    },
    {
      "cell_type": "code",
      "metadata": {
        "id": "7gS4_3iFcoOX"
      },
      "source": [
        "You have 2 complex numbers, subtract them."
      ],
      "execution_count": null,
      "outputs": []
    },
    {
      "cell_type": "code",
      "metadata": {
        "id": "LWoP6FJRcoOX",
        "outputId": "9d86af6d-3f0c-4ff4-e5a4-2222bd41a67a"
      },
      "source": [
        "a = 43.6 + 4j\n",
        "b = 876.855 + 235.234j\n",
        "\n",
        "print(f'the subtract is {a-b}')"
      ],
      "execution_count": null,
      "outputs": [
        {
          "output_type": "stream",
          "text": [
            "the subtract is (-833.255-231.234j)\n"
          ],
          "name": "stdout"
        }
      ]
    },
    {
      "cell_type": "markdown",
      "metadata": {
        "id": "TYp7J4RDcoOX"
      },
      "source": [
        "#### Multiplication"
      ]
    },
    {
      "cell_type": "code",
      "metadata": {
        "id": "t_JF2QWqcoOX"
      },
      "source": [
        "num1 = 5\n",
        "num2 = 34.5\n",
        "\n",
        "print(f'the multiplication of {num1} and {num2} is {num1*num2}')"
      ],
      "execution_count": null,
      "outputs": []
    },
    {
      "cell_type": "markdown",
      "metadata": {
        "id": "Kx3RsSAXcoOX"
      },
      "source": [
        "You have 2 integers, multiply  them."
      ]
    },
    {
      "cell_type": "code",
      "metadata": {
        "id": "YveP_x4ZcoOX",
        "outputId": "62175ab8-2e36-4660-a1f2-50079c91f48f"
      },
      "source": [
        "a = 245\n",
        "b = 653\n",
        "\n",
        "print(f'the multiplication is {a-b}')"
      ],
      "execution_count": null,
      "outputs": [
        {
          "output_type": "stream",
          "text": [
            "the multiplication is -408\n"
          ],
          "name": "stdout"
        }
      ]
    },
    {
      "cell_type": "markdown",
      "metadata": {
        "id": "4RJMS_zRcoOX"
      },
      "source": [
        "You have 2 floating point numbers, multiply  them."
      ]
    },
    {
      "cell_type": "code",
      "metadata": {
        "id": "1y8xaQbmcoOX",
        "outputId": "a24b2151-49e3-479b-e4f7-bb6d530056a6"
      },
      "source": [
        "a = 43.6\n",
        "b = 876.855\n",
        "\n",
        "print(f'the multiplication is {a*b}')"
      ],
      "execution_count": null,
      "outputs": [
        {
          "output_type": "stream",
          "text": [
            "the multiplication is 38230.878000000004\n"
          ],
          "name": "stdout"
        }
      ]
    },
    {
      "cell_type": "markdown",
      "metadata": {
        "id": "07EJivBpcoOY"
      },
      "source": [
        "You have 2 complex numbers, multiply  them."
      ]
    },
    {
      "cell_type": "code",
      "metadata": {
        "id": "vQV_RADScoOY",
        "outputId": "c9158389-fe4e-4e80-d612-d5e108f4e2f5"
      },
      "source": [
        "a = 40.5 + 4j\n",
        "b = 80.8 + 2j\n",
        "\n",
        "print(f'the multiplication is {a*b}')"
      ],
      "execution_count": null,
      "outputs": [
        {
          "output_type": "stream",
          "text": [
            "the multiplication is (3264.4+404.2j)\n"
          ],
          "name": "stdout"
        }
      ]
    },
    {
      "cell_type": "markdown",
      "metadata": {
        "id": "8s8zDRf2coOY"
      },
      "source": [
        "#### Division "
      ]
    },
    {
      "cell_type": "code",
      "metadata": {
        "id": "2en3RdTOcoOY",
        "outputId": "bd72eef3-1b9e-4356-b11c-b9c196c24c81"
      },
      "source": [
        "num1 = 35\n",
        "num2 = 7\n",
        "\n",
        "print(f'the division of {num1} and {num2} is {num1/num2}')"
      ],
      "execution_count": null,
      "outputs": [
        {
          "output_type": "stream",
          "text": [
            "the division of 35 and 7 is 5.0\n"
          ],
          "name": "stdout"
        }
      ]
    },
    {
      "cell_type": "markdown",
      "metadata": {
        "id": "9OPQUGfXcoOY"
      },
      "source": [
        "You have 2 numbers, divide them."
      ]
    },
    {
      "cell_type": "code",
      "metadata": {
        "id": "pt5cL1PycoOY",
        "outputId": "6b21ad66-63a1-4b26-8047-01450902f0ae"
      },
      "source": [
        "a = 78\n",
        "b = 8\n",
        "\n",
        "print(f'the division of {a} and {b} is {a/b}')"
      ],
      "execution_count": null,
      "outputs": [
        {
          "output_type": "stream",
          "text": [
            "the division of 78 and 8 is 9.75\n"
          ],
          "name": "stdout"
        }
      ]
    },
    {
      "cell_type": "markdown",
      "metadata": {
        "id": "vjg_cs5lcoOY"
      },
      "source": [
        "#### Modulus "
      ]
    },
    {
      "cell_type": "code",
      "metadata": {
        "id": "ev3GfA36coOZ"
      },
      "source": [
        "num1 = 65\n",
        "num2 = 7\n",
        "\n",
        "print(f'the remainder of the division  of {num1} and {num2} is {num1%num2}')"
      ],
      "execution_count": null,
      "outputs": []
    },
    {
      "cell_type": "code",
      "metadata": {
        "id": "T7RKNwGpcoOZ"
      },
      "source": [
        "You have 2 numbers, take the remainder of the division of them."
      ],
      "execution_count": null,
      "outputs": []
    },
    {
      "cell_type": "code",
      "metadata": {
        "id": "_FTRVTTVcoOZ",
        "outputId": "e15cc4dd-fe46-4cbb-ba8f-1117cd352b1a"
      },
      "source": [
        "a = 78\n",
        "b = 8\n",
        "\n",
        "print(f'the remainder of the division  of {a} and {b} is {a%b}')"
      ],
      "execution_count": null,
      "outputs": [
        {
          "output_type": "stream",
          "text": [
            "the remainder of the division  of 78 and 8 is 6\n"
          ],
          "name": "stdout"
        }
      ]
    },
    {
      "cell_type": "markdown",
      "metadata": {
        "id": "lE3UQeYZcoOZ"
      },
      "source": [
        "#### Floor value"
      ]
    },
    {
      "cell_type": "code",
      "metadata": {
        "id": "Xu7NoNZCcoOe",
        "outputId": "65ca2638-46a1-41d3-bff5-73aeab0236ae"
      },
      "source": [
        "num1 = 65\n",
        "num2 = 7\n",
        "\n",
        "print(f'the floor value of {num1} and {num2} is {num1//num2}')"
      ],
      "execution_count": null,
      "outputs": [
        {
          "output_type": "stream",
          "text": [
            "the floor value of 65 and 7 is 9\n"
          ],
          "name": "stdout"
        }
      ]
    },
    {
      "cell_type": "markdown",
      "metadata": {
        "id": "zhzYSu-YcoOf"
      },
      "source": [
        "You have 2 numbers, take the floor value of them."
      ]
    },
    {
      "cell_type": "code",
      "metadata": {
        "id": "xZlhZLbtcoOg",
        "outputId": "a1277622-fecc-4e12-c72e-470d5e1f6107"
      },
      "source": [
        "a = 78\n",
        "b = 8\n",
        "\n",
        "print(f'the floor value of {a} and {b} is {a//b}')"
      ],
      "execution_count": null,
      "outputs": [
        {
          "output_type": "stream",
          "text": [
            "the floor value of 78 and 8 is 9\n"
          ],
          "name": "stdout"
        }
      ]
    },
    {
      "cell_type": "markdown",
      "metadata": {
        "id": "QcbTnMhRcoOg"
      },
      "source": [
        "### Exponent "
      ]
    },
    {
      "cell_type": "code",
      "metadata": {
        "id": "x-X5xygecoOh"
      },
      "source": [
        "num1 = 55\n",
        "num2 = 2\n",
        "\n",
        "print(f'the floor value of {num1} and {num2} is {num1**num2}')"
      ],
      "execution_count": null,
      "outputs": []
    },
    {
      "cell_type": "markdown",
      "metadata": {
        "id": "faUJL7MfcoOh"
      },
      "source": [
        "You have 2 numbers, take the exponent value of them."
      ]
    },
    {
      "cell_type": "code",
      "metadata": {
        "id": "1-60uPb1coOh",
        "outputId": "36f5a76f-f452-4339-8173-27bf512d7e35"
      },
      "source": [
        "a = 7\n",
        "b = 3\n",
        "\n",
        "print(f'the floor value of {a} and {b} is {a**b}')"
      ],
      "execution_count": null,
      "outputs": [
        {
          "output_type": "stream",
          "text": [
            "the floor value of 7 and 3 is 343\n"
          ],
          "name": "stdout"
        }
      ]
    },
    {
      "cell_type": "markdown",
      "metadata": {
        "id": "FCp4IlGrcoOh"
      },
      "source": [
        "## Boolean Type"
      ]
    },
    {
      "cell_type": "markdown",
      "metadata": {
        "id": "Wp2NopnRcoOh"
      },
      "source": [
        "A variable of type `Boolean` can take only to values - either **False** of **True**. \n",
        "\n",
        "The following values are considered **False** in Python:\n",
        "- **None**\n",
        "- Zero of any numeric tupe. For example,`0, 0.0, 0j`\n",
        "- Empty sequence. For example, `( ), [ ], ' ' `\n",
        "- Empty mapping. For example, `{ }`.\n"
      ]
    },
    {
      "cell_type": "code",
      "metadata": {
        "id": "TtHAqgAZcoOi",
        "outputId": "118921ce-9b59-4e22-d3e1-84c599aa3698"
      },
      "source": [
        "a = True\n",
        "print(type(a))\n",
        "\n",
        "b = False\n",
        "print(type(b))"
      ],
      "execution_count": null,
      "outputs": [
        {
          "output_type": "stream",
          "text": [
            "<class 'bool'>\n",
            "<class 'bool'>\n"
          ],
          "name": "stdout"
        }
      ]
    },
    {
      "cell_type": "markdown",
      "metadata": {
        "id": "OfjwkKagcoOi"
      },
      "source": [
        "**Note** the keywords True and False must have an Upper Case first letter. Using a lowercase true returns an error."
      ]
    },
    {
      "cell_type": "code",
      "metadata": {
        "id": "Zg88ymtXcoOi",
        "outputId": "f90e8968-d3c4-444a-a904-9bd26bc58f26"
      },
      "source": [
        "a = true\n",
        "print(type(a))"
      ],
      "execution_count": null,
      "outputs": [
        {
          "output_type": "error",
          "ename": "NameError",
          "evalue": "name 'true' is not defined",
          "traceback": [
            "\u001b[1;31m---------------------------------------------------------------------------\u001b[0m",
            "\u001b[1;31mNameError\u001b[0m                                 Traceback (most recent call last)",
            "\u001b[1;32m<ipython-input-74-edb1f4cdcad3>\u001b[0m in \u001b[0;36m<module>\u001b[1;34m\u001b[0m\n\u001b[1;32m----> 1\u001b[1;33m \u001b[0ma\u001b[0m \u001b[1;33m=\u001b[0m \u001b[0mtrue\u001b[0m\u001b[1;33m\u001b[0m\u001b[1;33m\u001b[0m\u001b[0m\n\u001b[0m\u001b[0;32m      2\u001b[0m \u001b[0mprint\u001b[0m\u001b[1;33m(\u001b[0m\u001b[0mtype\u001b[0m\u001b[1;33m(\u001b[0m\u001b[0ma\u001b[0m\u001b[1;33m)\u001b[0m\u001b[1;33m)\u001b[0m\u001b[1;33m\u001b[0m\u001b[1;33m\u001b[0m\u001b[0m\n",
            "\u001b[1;31mNameError\u001b[0m: name 'true' is not defined"
          ]
        }
      ]
    },
    {
      "cell_type": "code",
      "metadata": {
        "id": "IC2AaHOocoOj",
        "outputId": "416d39bc-9567-4836-a24f-462622c9991f"
      },
      "source": [
        "x = 5 > 3\n",
        "print(x)\n",
        "print(type(x))"
      ],
      "execution_count": null,
      "outputs": [
        {
          "output_type": "stream",
          "text": [
            "True\n",
            "<class 'bool'>\n"
          ],
          "name": "stdout"
        }
      ]
    },
    {
      "cell_type": "code",
      "metadata": {
        "id": "FOLG_IiQcoOj",
        "outputId": "be66e2f6-691e-447a-c884-114ef585829a"
      },
      "source": [
        "y = 6 > 1\n",
        "print(y)\n",
        "print(type(y))"
      ],
      "execution_count": null,
      "outputs": [
        {
          "output_type": "stream",
          "text": [
            "True\n",
            "<class 'bool'>\n"
          ],
          "name": "stdout"
        }
      ]
    },
    {
      "cell_type": "markdown",
      "metadata": {
        "id": "aO-MLei6coOj"
      },
      "source": [
        "In Python, `Boolean` and `Integer` data types are closely related: the boolean data type internally uses integer values(by default, the `Boolean` value **False** is represented by integer **0**, and the `Boolean` value **True** is represented by integer **1**."
      ]
    },
    {
      "cell_type": "markdown",
      "metadata": {
        "id": "h7w2omvTcoOj"
      },
      "source": [
        " ### Python bool()"
      ]
    },
    {
      "cell_type": "markdown",
      "metadata": {
        "id": "BjAC-9drcoOj"
      },
      "source": [
        "The `bool()` function converts a value to Boolean (True or False) using the standard truth testing procedure.\n",
        "\n",
        "**The syntax of `bool()` method is**:\n",
        "`bool([value])`\n",
        "Parameters:\n",
        "- It's not mandatory to pass a value to bool(). If you do not pass a value, bool() returns False.\n",
        "- In general use, bool() takes a single parameter value.\n",
        "\n",
        "**Return value**:\n",
        "- False if the value is omitted or false\n",
        "- True if the value is true\n",
        "\n",
        "**How `bool()` works in Python?**"
      ]
    },
    {
      "cell_type": "code",
      "metadata": {
        "id": "YsVJw7IocoOk",
        "outputId": "65909c2e-9a18-492d-85c2-7c33bdc1113e"
      },
      "source": [
        "zero = 0\n",
        "bool(zero)"
      ],
      "execution_count": null,
      "outputs": [
        {
          "output_type": "execute_result",
          "data": {
            "text/plain": [
              "False"
            ]
          },
          "metadata": {
            "tags": []
          },
          "execution_count": 76
        }
      ]
    },
    {
      "cell_type": "code",
      "metadata": {
        "id": "a09fLdsxcoOk",
        "outputId": "55e996e1-ee99-417b-949c-e953e3e7f272"
      },
      "source": [
        "one = 1\n",
        "bool(one)"
      ],
      "execution_count": null,
      "outputs": [
        {
          "output_type": "execute_result",
          "data": {
            "text/plain": [
              "True"
            ]
          },
          "metadata": {
            "tags": []
          },
          "execution_count": 77
        }
      ]
    },
    {
      "cell_type": "code",
      "metadata": {
        "id": "ZNi9jJOScoOl",
        "outputId": "e2f4a6cc-c7bb-4068-d2d2-62248193fd1e"
      },
      "source": [
        "x = None\n",
        "bool(x)"
      ],
      "execution_count": null,
      "outputs": [
        {
          "output_type": "execute_result",
          "data": {
            "text/plain": [
              "False"
            ]
          },
          "metadata": {
            "tags": []
          },
          "execution_count": 78
        }
      ]
    },
    {
      "cell_type": "markdown",
      "metadata": {
        "id": "As2zpwY1coOl"
      },
      "source": [
        "### Keywords: and, or, not"
      ]
    },
    {
      "cell_type": "markdown",
      "metadata": {
        "id": "ktiV3VR7coOl"
      },
      "source": [
        "You can use `Booleans` with **three important keywords** to\n",
        "create more complicated expressions in Python.\n",
        "\n",
        "`Boolean` expressions represent basic logical operators. Using\n",
        "them in combination with only the following three keywords,\n",
        "you can craft a wide variety of potentially complicated\n",
        "expressions:\n"
      ]
    },
    {
      "cell_type": "markdown",
      "metadata": {
        "id": "K92Cmj1acoOl"
      },
      "source": [
        "- **and**. The expression x and y evaluates to True if value x is True\n",
        "and value y is True. If either of those is False, the overall\n",
        "expression becomes False too.\n",
        "- **or**. The expression x or y evaluates to True if value x is True or\n",
        "value y is True (or both values are True). If even just one of\n",
        "those is True, the overall expression becomes True too.\n",
        "- **not**. The expression not x evaluates to True if value x is False.\n",
        "Otherwise, the expression evaluates to False"
      ]
    },
    {
      "cell_type": "code",
      "metadata": {
        "id": "m47QzQ-LcoOl",
        "outputId": "54918c9c-4fd1-4d77-b23e-03000a56e76d"
      },
      "source": [
        "x, y = True, False\n",
        "print((x or y) == False)"
      ],
      "execution_count": null,
      "outputs": [
        {
          "output_type": "stream",
          "text": [
            "False\n"
          ],
          "name": "stdout"
        }
      ]
    },
    {
      "cell_type": "code",
      "metadata": {
        "id": "X7U4UZZOcoOm",
        "outputId": "b02227fa-eed0-4190-f40a-ca48e61935c0"
      },
      "source": [
        "x, y = True, False\n",
        "print((x and y) == False)"
      ],
      "execution_count": null,
      "outputs": [
        {
          "output_type": "stream",
          "text": [
            "True\n"
          ],
          "name": "stdout"
        }
      ]
    },
    {
      "cell_type": "code",
      "metadata": {
        "id": "lLRx8WZdcoOm",
        "outputId": "bc6e10fd-8740-4c87-e5b5-ddfdfe4ec7da"
      },
      "source": [
        "x = False\n",
        "print(not x)"
      ],
      "execution_count": null,
      "outputs": [
        {
          "output_type": "stream",
          "text": [
            "True\n"
          ],
          "name": "stdout"
        }
      ]
    },
    {
      "cell_type": "markdown",
      "metadata": {
        "id": "QYNoniSLcoOm"
      },
      "source": [
        "By using these three keywords, you can express all the logical expressions you will ever need."
      ]
    },
    {
      "cell_type": "markdown",
      "metadata": {
        "id": "fvCnNdCIcoOm"
      },
      "source": [
        "# Strings"
      ]
    },
    {
      "cell_type": "markdown",
      "metadata": {
        "id": "SN_ZABHEcoOm"
      },
      "source": [
        "It is a derived data type. Strings are `immutable`. This means that once defined, they cannot be changed"
      ]
    },
    {
      "cell_type": "markdown",
      "metadata": {
        "id": "ec8ZxL_ccoOm"
      },
      "source": [
        "- A string is a sequence of characters.\n",
        "\n"
      ]
    },
    {
      "cell_type": "code",
      "metadata": {
        "id": "FHZmIA1_coOm",
        "outputId": "40c09e51-adcd-48ac-fbd3-83bc41c9cedd"
      },
      "source": [
        "string = 'hello'\n",
        "print(string)"
      ],
      "execution_count": null,
      "outputs": [
        {
          "output_type": "stream",
          "text": [
            "hello\n"
          ],
          "name": "stdout"
        }
      ]
    },
    {
      "cell_type": "markdown",
      "metadata": {
        "id": "iTfphiDdcoOn"
      },
      "source": [
        "- A string literal uses quotes \"python\" or 'python'."
      ]
    },
    {
      "cell_type": "code",
      "metadata": {
        "id": "dHxybn2wcoOn",
        "outputId": "a1d9b4e6-edfb-4796-b9a2-046a1d1fc0e5"
      },
      "source": [
        "string_1 = \"hello\"\n",
        "string_2 = 'hello'\n",
        "print(string_1)\n",
        "print(string_2)"
      ],
      "execution_count": null,
      "outputs": [
        {
          "output_type": "stream",
          "text": [
            "hello\n",
            "hello\n"
          ],
          "name": "stdout"
        }
      ]
    },
    {
      "cell_type": "markdown",
      "metadata": {
        "id": "Uqo24dg2coOn"
      },
      "source": [
        "- **multiline Strings**\n",
        "\n",
        "You can assign a multiline string to a variable by using three quotes"
      ]
    },
    {
      "cell_type": "code",
      "metadata": {
        "id": "AUNGp3_OcoOn",
        "outputId": "731ac82e-acef-4572-92a8-b056ca819860"
      },
      "source": [
        "string = '''Roses are red \n",
        "Violets are blue \n",
        "Cats can learn Python\n",
        "What about you?'''\n",
        "print(string)"
      ],
      "execution_count": null,
      "outputs": [
        {
          "output_type": "stream",
          "text": [
            "Roses are red \n",
            "Violets are blue \n",
            "Cats can learn Python\n",
            "What about you?\n"
          ],
          "name": "stdout"
        }
      ]
    },
    {
      "cell_type": "markdown",
      "metadata": {
        "id": "uf4Zgu0mcoOn"
      },
      "source": [
        "- When a string contains numbers, it's still a string.\n"
      ]
    },
    {
      "cell_type": "code",
      "metadata": {
        "id": "C4924OFTcoOn",
        "outputId": "b1236555-9deb-4717-c258-4fac3a12179d"
      },
      "source": [
        "string = 'python3'\n",
        "print(string)\n",
        "print(type(string))"
      ],
      "execution_count": null,
      "outputs": [
        {
          "output_type": "stream",
          "text": [
            "python3\n",
            "<class 'str'>\n"
          ],
          "name": "stdout"
        }
      ]
    },
    {
      "cell_type": "markdown",
      "metadata": {
        "id": "anqK_qhwcoOo"
      },
      "source": [
        "- We can convert numbers in a string into a number using `int()`."
      ]
    },
    {
      "cell_type": "code",
      "metadata": {
        "id": "W4_TF6ukcoOo",
        "outputId": "52259d83-a39f-40f1-ffca-c74ae598f81c"
      },
      "source": [
        "string = '1'\n",
        "x = int(string) + 5\n",
        "print(x)"
      ],
      "execution_count": null,
      "outputs": [
        {
          "output_type": "stream",
          "text": [
            "6\n"
          ],
          "name": "stdout"
        }
      ]
    },
    {
      "cell_type": "markdown",
      "metadata": {
        "id": "JBkhZRa7coOo"
      },
      "source": [
        "Python 3.6 added a new string formatting approach called formatted string literals or `f-strings`. This new way of formatting strings lets you use embedded Python expressions inside string constants. Here’s a simple example."
      ]
    },
    {
      "cell_type": "code",
      "metadata": {
        "id": "cPCReYHTcoOo",
        "outputId": "96590718-c6ff-4145-b2e3-d5e5b13b0c9e"
      },
      "source": [
        "string = ' world'\n",
        "print(f'hello, {string}')"
      ],
      "execution_count": null,
      "outputs": [
        {
          "output_type": "stream",
          "text": [
            "hello,  world\n"
          ],
          "name": "stdout"
        }
      ]
    },
    {
      "cell_type": "code",
      "metadata": {
        "id": "5QXdsYqkcoOo",
        "outputId": "0bf4941a-9db2-4e29-db34-e0093bd92bc1"
      },
      "source": [
        "a = 10\n",
        "b = 67\n",
        "print(f'{a} + {b} = {a+b}')"
      ],
      "execution_count": null,
      "outputs": [
        {
          "output_type": "stream",
          "text": [
            "10 + 67 = 77\n"
          ],
          "name": "stdout"
        }
      ]
    },
    {
      "cell_type": "markdown",
      "metadata": {
        "id": "S9RWEYW7coOp"
      },
      "source": [
        "### Task \n",
        "You have to fill in the blanks."
      ]
    },
    {
      "cell_type": "code",
      "metadata": {
        "id": "LDoZGBhQcoOp",
        "outputId": "9ab2a667-e138-4405-d902-7df86fdaa378"
      },
      "source": [
        "age = 20\n",
        "name = 'Alex'\n",
        "langugage = 'Spanish'\n",
        "print(f'The name of this boy is {name}. He is {age} years old. His native langugage is {langugage}')"
      ],
      "execution_count": null,
      "outputs": [
        {
          "output_type": "stream",
          "text": [
            "The name of this boy is Alex. He is 20 years old. His native langugage is Spanish\n"
          ],
          "name": "stdout"
        }
      ]
    },
    {
      "cell_type": "markdown",
      "metadata": {
        "id": "0Htz775qcoOp"
      },
      "source": [
        "### Task \n",
        "You have to fill in the blanks."
      ]
    },
    {
      "cell_type": "code",
      "metadata": {
        "id": "nF111FjNcoOp",
        "outputId": "ae7c9180-fef4-4a08-df09-0d7112feb822"
      },
      "source": [
        "num1 = 50\n",
        "num2 = 7\n",
        "print(f'the remainder of the division  of {num1} and {num2} is {num1%num2}')\n",
        "print(f'the division of {num1} and {num2} is {num1/num2}')\n",
        "print(f'the subtraction of {num1} and {num2} is {num1-num2}')"
      ],
      "execution_count": null,
      "outputs": [
        {
          "output_type": "stream",
          "text": [
            "the remainder of the division  of 50 and 7 is 1\n",
            "the division of 50 and 7 is 7.142857142857143\n",
            "the subtraction of 50 and 7 is 43\n"
          ],
          "name": "stdout"
        }
      ]
    },
    {
      "cell_type": "markdown",
      "metadata": {
        "id": "Gi3uRu3ZcoOp"
      },
      "source": [
        "### Looking Inside Strings "
      ]
    },
    {
      "cell_type": "markdown",
      "metadata": {
        "id": "07M79AsKcoOq"
      },
      "source": [
        "We can get at any single character in a string using indexing and a range of characters using slicing. The index value must be an integer and starts at zero. We can't use floats or other types, this will result into `TypeError`.Trying to access a character out of index range will rise an `IndexError`.\n",
        "\n",
        "Python allows negative indexing for strings.\n",
        "\n",
        "The index `-1` refers to the last item, `-2` to the second last item and so on.\n"
      ]
    },
    {
      "cell_type": "code",
      "metadata": {
        "id": "eK5DXSV7coOq",
        "outputId": "d9c4b5f6-5d33-437b-fe73-f08891c78105"
      },
      "source": [
        "#Accessing string characters\n",
        "string = 'Hello, World'\n",
        "print('string = ', string)\n",
        "\n",
        "#Accessing the first character\n",
        "print(f'The first character is \"{string[0]}\"')\n",
        "\n",
        "#Accessing the last character\n",
        "print(f'The last character is \"{string[-1]}\"')\n"
      ],
      "execution_count": null,
      "outputs": [
        {
          "output_type": "stream",
          "text": [
            "string =  Hello, World\n",
            "The first character is \"H\"\n",
            "The last character is \"d\"\n"
          ],
          "name": "stdout"
        }
      ]
    },
    {
      "cell_type": "markdown",
      "metadata": {
        "id": "41fra2tAcoOq"
      },
      "source": [
        "You have such string `watermelon`. You have to get such characters: `n`, `m`, `l`, `a`. Use only positive indexing."
      ]
    },
    {
      "cell_type": "code",
      "metadata": {
        "id": "VOtAoaEEcoOq",
        "outputId": "628412b8-ce3f-4e2b-bf34-e784e2fa1db6"
      },
      "source": [
        "string = 'watermelon'\n",
        "n = string[9]\n",
        "m = string[5]\n",
        "l = string[7]\n",
        "a = string[1]\n",
        "print(n, m, l, a)"
      ],
      "execution_count": null,
      "outputs": [
        {
          "output_type": "stream",
          "text": [
            "n m l a\n"
          ],
          "name": "stdout"
        }
      ]
    },
    {
      "cell_type": "markdown",
      "metadata": {
        "id": "6ItKlmbScoOr"
      },
      "source": [
        "You have such string `watermelon`. You have to get such characters: `n`, `m`, `l`, `a`. Use only negative indexing."
      ]
    },
    {
      "cell_type": "code",
      "metadata": {
        "id": "HfrIRRExcoOr",
        "outputId": "ddd21903-4c97-4347-9b56-9c931911034f"
      },
      "source": [
        "string = 'watermelon'\n",
        "n = string[-1]\n",
        "m = string[-5]\n",
        "l = string[-3]\n",
        "a = string[-9]\n",
        "print(n, m, l, a)"
      ],
      "execution_count": null,
      "outputs": [
        {
          "output_type": "stream",
          "text": [
            "n m l a\n"
          ],
          "name": "stdout"
        }
      ]
    },
    {
      "cell_type": "markdown",
      "metadata": {
        "id": "BhwWS-19coOs"
      },
      "source": [
        "### String Slicing in Python "
      ]
    },
    {
      "cell_type": "markdown",
      "metadata": {
        "id": "3K9bBInFcoOt"
      },
      "source": [
        "Python slicing is about obtaining a sub-string from the given string by slicing it respectively from start to end. Python slicing can be done in two ways: \n",
        "- `slice()` Constructor\n",
        "- Extending Indexing."
      ]
    },
    {
      "cell_type": "markdown",
      "metadata": {
        "id": "5dyXfqO0coOu"
      },
      "source": [
        "### slice() Constructor\n",
        "\n",
        "The `slice()` constructor creates a slice object representing the set of indices specified by `range(start, stop, step)`.\n",
        "\n",
        "Syntax: \n",
        "- slice(stop)\n",
        "- slice(start, stop, step)\n",
        "\n",
        "Parameter values :\n",
        "- start: Starting index where the slicing starts\n",
        "- stop: Ending index where the slicing stops.\n",
        "- step: This argument determines the increment between each index for slicing.\n",
        "\n",
        "Return value: `a sliced object containing elements in the given range only.`"
      ]
    },
    {
      "cell_type": "markdown",
      "metadata": {
        "id": "pxu-9XlRcoOv"
      },
      "source": [
        "**Note**: The ending index  is `up to but not including`\n",
        "\n",
        "**Remember** that the first item has index 0."
      ]
    },
    {
      "cell_type": "code",
      "metadata": {
        "id": "4a_uKvg-coOw",
        "outputId": "74fe9cfe-c013-4881-f30b-94f0857622c6"
      },
      "source": [
        "#string slicing\n",
        "  \n",
        "string ='Python'\n",
        "  \n",
        "# Using slice constructor\n",
        "string_1 = slice(4)\n",
        "string_2 = slice(2, 6, 2) \n",
        "string_3 = slice(-1, -5, -2)\n",
        "  \n",
        "print(string[string_1]) \n",
        "print(string[string_2]) \n",
        "print(string[string_3])"
      ],
      "execution_count": null,
      "outputs": [
        {
          "output_type": "stream",
          "text": [
            "Pyth\n",
            "to\n",
            "nh\n"
          ],
          "name": "stdout"
        }
      ]
    },
    {
      "cell_type": "markdown",
      "metadata": {
        "id": "rbbaGComcoOw"
      },
      "source": [
        "You have such string `hello, world`. Using `slice()` constructor you have to get such string: `ll`, `eowl`, `world`. Use only positive indexing."
      ]
    },
    {
      "cell_type": "code",
      "metadata": {
        "id": "kZU3Tgk3coOx",
        "outputId": "3b23db51-8883-4acc-d44c-a3fdaddf3b59"
      },
      "source": [
        "#string slicing\n",
        "  \n",
        "string ='hello, world'\n",
        "  \n",
        "# Using slice constructor\n",
        "string_1 = slice(2, 4, 1)\n",
        "string_2 = slice(1, 12, 3) \n",
        "string_3 = slice(7, 12, 1)\n",
        "  \n",
        "print(string[string_1]) \n",
        "print(string[string_2]) \n",
        "print(string[string_3])"
      ],
      "execution_count": null,
      "outputs": [
        {
          "output_type": "stream",
          "text": [
            "ll\n",
            "eowl\n",
            "world\n"
          ],
          "name": "stdout"
        }
      ]
    },
    {
      "cell_type": "markdown",
      "metadata": {
        "id": "YF9iKgxucoOx"
      },
      "source": [
        "### Extending indexing"
      ]
    },
    {
      "cell_type": "markdown",
      "metadata": {
        "id": "RJH_NsxQcoOx"
      },
      "source": [
        "In Python, indexing syntax can be used as a substitute for the slice object. This is an easy and convenient way to slice a string both syntax wise and execution wise.\n",
        "\n",
        "Syntax: `string[start:end:step]`\n",
        "\n",
        "Parameter values :\n",
        "\n",
        "- start: Starting index where the slicing starts\n",
        "- stop: Ending index where the slicing stops.\n",
        "- step: This argument determines the increment between each index for slicing.\n",
        "\n",
        "**NOTE** The ending index is up to but not including."
      ]
    },
    {
      "cell_type": "markdown",
      "metadata": {
        "id": "Y5xNFF9PcoOx"
      },
      "source": [
        "- to print elements from beginning to a range use [: End Index],\n",
        "- to print elements from end-use [:-End Index],\n",
        "- to print elements from specific Index till the end use [Start Index:],\n",
        "- to print elements within a range, use [Start Index:End Index]\n",
        "- to print the whole List with the use of slicing operation, use [:].\n",
        "- to print the whole List in reverse order, use [::-1]."
      ]
    },
    {
      "cell_type": "code",
      "metadata": {
        "id": "mmVPlBD_coOy",
        "outputId": "fb7d77b3-7c22-450d-d931-dfa565c0ff2b"
      },
      "source": [
        "# Creating a string\n",
        "string = 'ABCDEFGHIJKLMNO'\n",
        "print(\"Initial STRING: \", string)\n",
        "\n",
        "# Extending indexing\n",
        "string_1 = string[7:13]\n",
        "print(\"\\nSlicing elements in a range 7-13: \", string_1)\n"
      ],
      "execution_count": null,
      "outputs": [
        {
          "output_type": "stream",
          "text": [
            "Initial STRING:  ABCDEFGHIJKLMNO\n",
            "\n",
            "Slicing elements in a range 7-13:  HIJKLM\n"
          ],
          "name": "stdout"
        }
      ]
    },
    {
      "cell_type": "code",
      "metadata": {
        "id": "YAWAuJA3coOy",
        "outputId": "cb553127-4907-4f36-aec8-4590ef2e3bd3"
      },
      "source": [
        "#Print elements from a pre-defined point to end\n",
        "string_2 = string[5:]\n",
        "print(\"\\nElements sliced from 5th element till the end: \", string_2)"
      ],
      "execution_count": null,
      "outputs": [
        {
          "output_type": "stream",
          "text": [
            "\n",
            "Elements sliced from 5th element till the end:  FGHIJKLMNO\n"
          ],
          "name": "stdout"
        }
      ]
    },
    {
      "cell_type": "code",
      "metadata": {
        "id": "Rsl0VyFLcoOz",
        "outputId": "90e3d392-a75e-4075-a771-e389851e2bd4"
      },
      "source": [
        "# Printing elements from beginning till end\n",
        "string_3 = string[:]\n",
        "print(\"\\nPrinting all elements using slice operation: \", string_3)\n"
      ],
      "execution_count": null,
      "outputs": [
        {
          "output_type": "stream",
          "text": [
            "\n",
            "Printing all elements using slice operation:  ABCDEFGHIJKLMNO\n"
          ],
          "name": "stdout"
        }
      ]
    },
    {
      "cell_type": "markdown",
      "metadata": {
        "id": "rKXBaVuecoOz"
      },
      "source": [
        "### TASK\n",
        "You have such a string `1_2_3_4_5_6_7_8_9_0`. \n",
        "You have to do such steps: \n",
        "1. print elements from beginning till the end\n",
        "2. print elements from 4th element till the end\n",
        "3. print elemnts in a range 2-7"
      ]
    },
    {
      "cell_type": "code",
      "metadata": {
        "id": "2bEurU7dcoOz",
        "outputId": "efca4fa1-e6e8-4a75-be16-e1d5bb4a0861"
      },
      "source": [
        "string = '1_2_3_4_5_6_7_8_9_0'\n",
        "\n",
        "string_1 = string[:]\n",
        "print(\"\\nPrinting all elements \", string_1)\n",
        "\n",
        "\n",
        "string_2 = string[4:]\n",
        "print(\"\\nElements sliced from 4th element till the end: \", string_2)\n",
        "\n",
        "string_3 = string[2:7]\n",
        "print(\"\\nSlicing elements in a range 2-7: \", string_3)\n"
      ],
      "execution_count": null,
      "outputs": [
        {
          "output_type": "stream",
          "text": [
            "\n",
            "Printing all elements using slice operation:  1_2_3_4_5_6_7_8_9_0\n",
            "\n",
            "Elements sliced from 4th element till the end:  3_4_5_6_7_8_9_0\n",
            "\n",
            "Slicing elements in a range 2-7:  2_3_4\n"
          ],
          "name": "stdout"
        }
      ]
    },
    {
      "cell_type": "markdown",
      "metadata": {
        "id": "plQiqA5DcoOz"
      },
      "source": [
        "### Negative indexing"
      ]
    },
    {
      "cell_type": "code",
      "metadata": {
        "id": "KyP8biU9coO0",
        "outputId": "9fc79975-c8ae-46ba-9854-9d19b5683891"
      },
      "source": [
        "# Creating a string\n",
        "string = 'Python is easy'\n",
        "print(\"Initial string: \", string)\n",
        "  \n",
        "# Print elements from beginning to a pre-defined point using Slice\n",
        "string_1 = string[:-7]\n",
        "print(\"\\nElements sliced till 6th element from last: \", string_1)\n",
        "  \n",
        "# Print elements of a range using negative index List slicing\n",
        "string_2 = string[-7:-4]\n",
        "print(\"\\nElements sliced from index -6 to -1:\",string_2)\n",
        "  \n",
        "# Printing elements in reverse using Slice operation\n",
        "string_3 = string[::-1]\n",
        "print(\"\\nPrinting List in reverse: \", string_3)\n"
      ],
      "execution_count": null,
      "outputs": [
        {
          "output_type": "stream",
          "text": [
            "Initial string:  Python is easy\n",
            "\n",
            "Elements sliced till 6th element from last:  Python \n",
            "\n",
            "Elements sliced from index -6 to -1: is \n",
            "\n",
            "Printing List in reverse:  ysae si nohtyP\n"
          ],
          "name": "stdout"
        }
      ]
    },
    {
      "cell_type": "markdown",
      "metadata": {
        "id": "AxnBB-9tcoO0"
      },
      "source": [
        "### Task\n",
        "You have such a string `programming`. \n",
        "You have to do such steps: \n",
        "1. print elements sliced till 8th element from last\n",
        "2. print elements sliced from index -8 to -2\n",
        "3. print elements in reverse using Slice operation"
      ]
    },
    {
      "cell_type": "code",
      "metadata": {
        "id": "HULl6d3ZcoO0",
        "outputId": "0e8fce66-0ff0-4755-b5c4-025880f6869b"
      },
      "source": [
        "# Creating a string\n",
        "string = 'programming'\n",
        "print(\"Initial string: \", string)\n",
        "  \n",
        "# Print elements from beginning to a pre-defined point using Slice\n",
        "string_1 = string[:-8]\n",
        "print(\"\\nElements sliced till 6th element from last: \", string_1)\n",
        "  \n",
        "# Print elements of a range using negative index List slicing\n",
        "string_2 = string[-8:-2]\n",
        "print(\"\\nElements sliced from index -6 to -1:\",string_2)\n",
        "  \n",
        "# Printing elements in reverse using Slice operation\n",
        "string_3 = string[::-1]\n",
        "print(\"\\nPrinting List in reverse: \", string_3)\n"
      ],
      "execution_count": null,
      "outputs": [
        {
          "output_type": "stream",
          "text": [
            "Initial string:  programming\n",
            "\n",
            "Elements sliced till 6th element from last:  pro\n",
            "\n",
            "Elements sliced from index -6 to -1: grammi\n",
            "\n",
            "Printing List in reverse:  gnimmargorp\n"
          ],
          "name": "stdout"
        }
      ]
    },
    {
      "cell_type": "markdown",
      "metadata": {
        "id": "qleEf9VKcoO0"
      },
      "source": [
        "### Strings have Length \n",
        "The built-in function `len()` gives uf the length of a string."
      ]
    },
    {
      "cell_type": "code",
      "metadata": {
        "id": "GH-2A1gycoO0",
        "outputId": "cd817bfd-1655-4779-f476-e563c43d5ae5"
      },
      "source": [
        "string = 'watermelon'\n",
        "length = len(string)\n",
        "print(f'the length of the string \"{string}\"  is {length}')"
      ],
      "execution_count": null,
      "outputs": [
        {
          "output_type": "stream",
          "text": [
            "the length of the string \"watermelon\"  is 10\n"
          ],
          "name": "stdout"
        }
      ]
    },
    {
      "cell_type": "markdown",
      "metadata": {
        "id": "TVLOtmZXcoO1"
      },
      "source": [
        "### Task\n",
        "You have such strings `apple`,`grape`, `orange`. \n",
        "You have to get the length of each of these strings.  Using such comparison operators\n",
        " `>, <` determine the longest string."
      ]
    },
    {
      "cell_type": "code",
      "metadata": {
        "id": "EC08u-XYcoO1",
        "outputId": "1c8f3007-fc52-40df-f93b-0de163cebc27"
      },
      "source": [
        "str_1 = 'apple'\n",
        "str_2 = 'grape'\n",
        "str_3 = 'orange'\n",
        "\n",
        "len_1 = len(str_1)\n",
        "len_2 = len(str_2)\n",
        "len_3 = len(str_3)\n",
        "\n",
        "print(f'str_1 is grater than str_2? {str_1 > str_2}, the len of str_1 is {len_1}, the len of str_2 is {len_2}')\n",
        "print(f'str_1 is grater than str_3? {str_1 > str_3}, the len of str_1 is {len_1}, the len of str_3 is {len_3}')\n",
        "print(f'str_2 is grater than str_3? {str_2 > str_3}, the len of str_2 is {len_2}, the len of str_3 is {len_3}')\n",
        "print(f'str_3 is grater than str_2? {str_3 > str_2}, the len of str_3 is {len_3}, the len of str_2 is {len_2}')\n",
        "print(f'str_3 is grater than str_1? {str_3 > str_1}, the len of str_3 is {len_3}, the len of str_1 is {len_1}')\n"
      ],
      "execution_count": null,
      "outputs": [
        {
          "output_type": "stream",
          "text": [
            "str_1 is grater than str_2? False, the len of str_1 is 5, the len of str_2 is 5\n",
            "str_1 is grater than str_3? False, the len of str_1 is 5, the len of str_3 is 6\n",
            "str_2 is grater than str_3? False, the len of str_2 is 5, the len of str_3 is 6\n",
            "str_3 is grater than str_2? True, the len of str_3 is 6, the len of str_2 is 5\n",
            "str_3 is grater than str_1? True, the len of str_3 is 6, the len of str_1 is 5\n"
          ],
          "name": "stdout"
        }
      ]
    },
    {
      "cell_type": "markdown",
      "metadata": {
        "id": "hsKdTC3NcoO1"
      },
      "source": [
        "The longest string is :\n",
        "- str_1 \n",
        "- str_2\n",
        "- str_3 + "
      ]
    },
    {
      "cell_type": "markdown",
      "metadata": {
        "id": "t4SO1GAhcoO1"
      },
      "source": [
        "### Looping through strings. While loop"
      ]
    },
    {
      "cell_type": "markdown",
      "metadata": {
        "id": "QnDrU3JxcoO1"
      },
      "source": [
        "Using a `while` statement and an `iteration variable` and the `len()` function we can construct a loop to look at each of the letters in a string individually."
      ]
    },
    {
      "cell_type": "code",
      "metadata": {
        "id": "_4TKgk06coO2",
        "outputId": "af885536-16e6-4e41-8dc4-7a91c8d6297f"
      },
      "source": [
        "string = 'strawberry'\n",
        "index = 0\n",
        "while index < len(string):\n",
        "    letter = string[index]\n",
        "    print(index, letter)\n",
        "    index +=1"
      ],
      "execution_count": null,
      "outputs": [
        {
          "output_type": "stream",
          "text": [
            "0 s\n",
            "1 t\n",
            "2 r\n",
            "3 a\n",
            "4 w\n",
            "5 b\n",
            "6 e\n",
            "7 r\n",
            "8 r\n",
            "9 y\n"
          ],
          "name": "stdout"
        }
      ]
    },
    {
      "cell_type": "markdown",
      "metadata": {
        "id": "M0eEFSj1coO2"
      },
      "source": [
        "You have such a string `pomegranate`. You have to print all characters except `e`, `a`, `o`.\n",
        "You have to use `while` statement, `if` statement ."
      ]
    },
    {
      "cell_type": "code",
      "metadata": {
        "id": "Y_leyMZgcoO2",
        "outputId": "ec3343ef-6ec9-4829-aed9-4c020791be2d"
      },
      "source": [
        "string = 'pomegranate'\n",
        "index = 0\n",
        "while index < len(string):\n",
        "    letter = string[index]\n",
        "    if letter is 'e':\n",
        "        pass\n",
        "    elif letter is 'a':\n",
        "        pass\n",
        "    elif letter is 'o':\n",
        "        pass\n",
        "    else:\n",
        "        print(index, letter)\n",
        "    index +=1"
      ],
      "execution_count": null,
      "outputs": [
        {
          "output_type": "stream",
          "text": [
            "0 p\n",
            "2 m\n",
            "4 g\n",
            "5 r\n",
            "7 n\n",
            "9 t\n"
          ],
          "name": "stdout"
        }
      ]
    },
    {
      "cell_type": "markdown",
      "metadata": {
        "id": "Q7EYnFMEcoO2"
      },
      "source": [
        "### Looping through strings. For loop"
      ]
    },
    {
      "cell_type": "markdown",
      "metadata": {
        "id": "p8wYHlB-coO2"
      },
      "source": [
        "A definite loop using a `for` statement is much more elegant. The iteration variable is completely taken care of by the `for` loop."
      ]
    },
    {
      "cell_type": "code",
      "metadata": {
        "id": "4dU2mPzRcoO2",
        "outputId": "00c85f15-1080-4ae8-d751-35282442331d"
      },
      "source": [
        "string = 'strawberry'\n",
        "for i in string:\n",
        "    print(i)"
      ],
      "execution_count": null,
      "outputs": [
        {
          "output_type": "stream",
          "text": [
            "s\n",
            "t\n",
            "r\n",
            "a\n",
            "w\n",
            "b\n",
            "e\n",
            "r\n",
            "r\n",
            "y\n"
          ],
          "name": "stdout"
        }
      ]
    },
    {
      "cell_type": "markdown",
      "metadata": {
        "id": "6jLNEahPcoO3"
      },
      "source": [
        "You have such a string `pomegranate`. You have to print all characters except `e`, `a`, `o`.\n",
        "You have to use `for` statement, `if` statement ."
      ]
    },
    {
      "cell_type": "code",
      "metadata": {
        "id": "wPN0mxrBcoO3",
        "outputId": "6235d013-e3c0-4801-d6ed-7db69d48df68"
      },
      "source": [
        "string = 'pomegranate'\n",
        "for i in string:\n",
        "    if i is 'e':\n",
        "        pass\n",
        "    elif i is 'a':\n",
        "        pass\n",
        "    elif i is 'o':\n",
        "        pass\n",
        "    else:\n",
        "        print(i)"
      ],
      "execution_count": null,
      "outputs": [
        {
          "output_type": "stream",
          "text": [
            "p\n",
            "m\n",
            "g\n",
            "r\n",
            "n\n",
            "t\n"
          ],
          "name": "stdout"
        }
      ]
    },
    {
      "cell_type": "markdown",
      "metadata": {
        "id": "e2OOb1-XcoO3"
      },
      "source": [
        "### Looping and counting \n",
        "This is a simple loop that iterates over each letter in a string and counts how many times the  the loop encounters the `r` character."
      ]
    },
    {
      "cell_type": "code",
      "metadata": {
        "id": "HZ9M-988coO3",
        "outputId": "c9b1ae1f-5539-42c6-869f-2da8488bbbab"
      },
      "source": [
        "string = 'strawberry'\n",
        "count = 0\n",
        "for i in string:\n",
        "    if i == 'r':\n",
        "        count += 1\n",
        "print(count)"
      ],
      "execution_count": null,
      "outputs": [
        {
          "output_type": "stream",
          "text": [
            "3\n"
          ],
          "name": "stdout"
        }
      ]
    },
    {
      "cell_type": "markdown",
      "metadata": {
        "id": "PDPG6F-_coO3"
      },
      "source": [
        "You have such a string\n",
        "\n",
        "`Lorem ipsum dolor sit amet,\n",
        "consectetur adipiscing elit,\n",
        "sed do eiusmod tempor incididunt\n",
        "ut labore et dolore magna aliqua.`\n",
        "\n",
        "You have to count how many times the loop encounters `l`, `a`, `d` characters."
      ]
    },
    {
      "cell_type": "code",
      "metadata": {
        "id": "K8LC3Yi8coO4",
        "outputId": "f61376b3-b5d2-4109-ddcc-36f3c202395e"
      },
      "source": [
        "string = '''Lorem ipsum dolor sit amet,\n",
        "consectetur adipiscing elit,\n",
        "sed do eiusmod tempor incididunt\n",
        "ut labore et dolore magna aliqua.'''\n",
        "count_l = 0\n",
        "count_a = 0\n",
        "count_d = 0\n",
        "for i in string:\n",
        "    if i == 'l':\n",
        "        count_l += 1\n",
        "    elif i == 'a':\n",
        "        count_a += 1\n",
        "    elif i == 'd':\n",
        "        count_d += 1\n",
        "print(f'we encountered with l - {count_l} times, with a - {count_a} times, with d - {count_d} times')"
      ],
      "execution_count": null,
      "outputs": [
        {
          "output_type": "stream",
          "text": [
            "we encountered with l - 5 times, with a - 7 times, with d - 8 times\n"
          ],
          "name": "stdout"
        }
      ]
    },
    {
      "cell_type": "markdown",
      "metadata": {
        "id": "8R_IX9WTcoO4"
      },
      "source": [
        "### Deletion of a character\n"
      ]
    },
    {
      "cell_type": "markdown",
      "metadata": {
        "id": "Dzcp9rGPcoO4"
      },
      "source": [
        "Deleting and updating characters from a string is not allowed. It's because the strings are immutable, so the elements of the string cannot be changed after it is assigned.  This will cause an error because assigning an item or deleting an item from a string is not supported. Although deleting the entire line is possible with the built-in keyword del."
      ]
    },
    {
      "cell_type": "markdown",
      "metadata": {
        "id": "O6UavgvLcoO4"
      },
      "source": [
        "The `del` keyword in python is primarily used to delete objects in Python.\n",
        "\n",
        "Syntax: `del object_name`"
      ]
    },
    {
      "cell_type": "code",
      "metadata": {
        "id": "w-oRhfrwcoO4",
        "outputId": "03bb8229-8080-467c-db3f-794f94b15cc0"
      },
      "source": [
        "string = \"python\"\n",
        "print(\"Initial String: \", string)\n",
        "  \n",
        "del string[5] \n",
        "print(\"\\nDeleting character at 2nd Index: \", string)\n"
      ],
      "execution_count": null,
      "outputs": [
        {
          "output_type": "stream",
          "text": [
            "Initial String:  python\n"
          ],
          "name": "stdout"
        },
        {
          "output_type": "error",
          "ename": "TypeError",
          "evalue": "'str' object doesn't support item deletion",
          "traceback": [
            "\u001b[1;31m---------------------------------------------------------------------------\u001b[0m",
            "\u001b[1;31mTypeError\u001b[0m                                 Traceback (most recent call last)",
            "\u001b[1;32m<ipython-input-208-32ee7e337dba>\u001b[0m in \u001b[0;36m<module>\u001b[1;34m\u001b[0m\n\u001b[0;32m      2\u001b[0m \u001b[0mprint\u001b[0m\u001b[1;33m(\u001b[0m\u001b[1;34m\"Initial String: \"\u001b[0m\u001b[1;33m,\u001b[0m \u001b[0mstring\u001b[0m\u001b[1;33m)\u001b[0m\u001b[1;33m\u001b[0m\u001b[1;33m\u001b[0m\u001b[0m\n\u001b[0;32m      3\u001b[0m \u001b[1;33m\u001b[0m\u001b[0m\n\u001b[1;32m----> 4\u001b[1;33m \u001b[1;32mdel\u001b[0m \u001b[0mstring\u001b[0m\u001b[1;33m[\u001b[0m\u001b[1;36m5\u001b[0m\u001b[1;33m]\u001b[0m\u001b[1;33m\u001b[0m\u001b[1;33m\u001b[0m\u001b[0m\n\u001b[0m\u001b[0;32m      5\u001b[0m \u001b[0mprint\u001b[0m\u001b[1;33m(\u001b[0m\u001b[1;34m\"\\nDeleting character at 2nd Index: \"\u001b[0m\u001b[1;33m,\u001b[0m \u001b[0mstring\u001b[0m\u001b[1;33m)\u001b[0m\u001b[1;33m\u001b[0m\u001b[1;33m\u001b[0m\u001b[0m\n",
            "\u001b[1;31mTypeError\u001b[0m: 'str' object doesn't support item deletion"
          ]
        }
      ]
    },
    {
      "cell_type": "code",
      "metadata": {
        "id": "xRvgA7p0coO5",
        "outputId": "94ed23c0-1be4-412f-fd31-51fb290e264e"
      },
      "source": [
        "string = \"python\"\n",
        "print(\"Initial String: \", string)\n",
        "  \n",
        "\n",
        "del string \n",
        "print(\"\\nDeleting entire String: \", string)"
      ],
      "execution_count": null,
      "outputs": [
        {
          "output_type": "stream",
          "text": [
            "Initial String:  python\n"
          ],
          "name": "stdout"
        },
        {
          "output_type": "error",
          "ename": "NameError",
          "evalue": "name 'string' is not defined",
          "traceback": [
            "\u001b[1;31m---------------------------------------------------------------------------\u001b[0m",
            "\u001b[1;31mNameError\u001b[0m                                 Traceback (most recent call last)",
            "\u001b[1;32m<ipython-input-209-27e690b5ed92>\u001b[0m in \u001b[0;36m<module>\u001b[1;34m\u001b[0m\n\u001b[0;32m      4\u001b[0m \u001b[1;33m\u001b[0m\u001b[0m\n\u001b[0;32m      5\u001b[0m \u001b[1;32mdel\u001b[0m \u001b[0mstring\u001b[0m\u001b[1;33m\u001b[0m\u001b[1;33m\u001b[0m\u001b[0m\n\u001b[1;32m----> 6\u001b[1;33m \u001b[0mprint\u001b[0m\u001b[1;33m(\u001b[0m\u001b[1;34m\"\\nDeleting entire String: \"\u001b[0m\u001b[1;33m,\u001b[0m \u001b[0mstring\u001b[0m\u001b[1;33m)\u001b[0m\u001b[1;33m\u001b[0m\u001b[1;33m\u001b[0m\u001b[0m\n\u001b[0m",
            "\u001b[1;31mNameError\u001b[0m: name 'string' is not defined"
          ]
        }
      ]
    },
    {
      "cell_type": "markdown",
      "metadata": {
        "id": "WY7Of0rmcoO5"
      },
      "source": [
        "### Check String \n",
        "To check if a certain phrase or character is present in a string, we can use the keyword `in`."
      ]
    },
    {
      "cell_type": "code",
      "metadata": {
        "id": "U7gBK49qcoO5",
        "outputId": "2815bd5d-8b12-4380-b652-0a5a50cb2331"
      },
      "source": [
        "string = 'Pear Lime Banana'\n",
        "print('Lime' in string)\n",
        "print('Mango' in string)"
      ],
      "execution_count": null,
      "outputs": [
        {
          "output_type": "stream",
          "text": [
            "True\n",
            "False\n"
          ],
          "name": "stdout"
        }
      ]
    },
    {
      "cell_type": "markdown",
      "metadata": {
        "id": "p8v9jL1VcoO5"
      },
      "source": [
        "### Task \n",
        "You have a string. You should check that this line contains such substrings `Lorem`, `python`, `consectetur`.\n",
        "If there is such a substring, then calculate its length."
      ]
    },
    {
      "cell_type": "code",
      "metadata": {
        "id": "1avaFoOZcoO5",
        "outputId": "12ba3e31-5751-4a32-8c36-15032e091695"
      },
      "source": [
        "string = '''Lorem ipsum dolor sit amet,\n",
        "consectetur adipiscing elit,\n",
        "sed do eiusmod tempor incididunt\n",
        "ut labore et dolore magna aliqua.'''\n",
        "\n",
        "sub_str1 = 'Lorem'\n",
        "sub_str2 = 'python'\n",
        "sub_str3 = 'consectetur'\n",
        "if sub_str1 in string:\n",
        "    print(f'the length of {sub_str1} is {len(sub_str1)}')\n",
        "else:\n",
        "    print(f'this line does not contain {sub_str1}')\n",
        "    \n",
        "if sub_str2 in string:\n",
        "    print(f'the length of {sub_str2} is {len(sub_str2)}')\n",
        "else:\n",
        "    print(f'this line does not contain such word as `{sub_str2}`')\n",
        "    \n",
        "if sub_str3 in string:\n",
        "    print(f'the length of {sub_str3} is {len(sub_str3)}')\n",
        "else:\n",
        "    print(f'this line does not contain {sub_str3}')\n"
      ],
      "execution_count": null,
      "outputs": [
        {
          "output_type": "stream",
          "text": [
            "the length of Lorem is 5\n",
            "this line does not contain such word as `python`\n",
            "the length of consectetur is 11\n"
          ],
          "name": "stdout"
        }
      ]
    },
    {
      "cell_type": "markdown",
      "metadata": {
        "id": "N7z7eEcucoO6"
      },
      "source": [
        "### Modify Strings \n",
        "Python has a set of built-in methods that you can use on strings."
      ]
    },
    {
      "cell_type": "markdown",
      "metadata": {
        "id": "LHqsPRUKcoO6"
      },
      "source": [
        "#### Upper Case \n",
        "The `upper()` method returns the string in upper case:"
      ]
    },
    {
      "cell_type": "code",
      "metadata": {
        "id": "h6Z57cwrcoO6",
        "outputId": "e05c82ec-c5f5-42dd-8984-ef8225046546"
      },
      "source": [
        "string = 'Python'\n",
        "print(string.upper())"
      ],
      "execution_count": null,
      "outputs": [
        {
          "output_type": "stream",
          "text": [
            "PYTHON\n"
          ],
          "name": "stdout"
        }
      ]
    },
    {
      "cell_type": "markdown",
      "metadata": {
        "id": "bCP4eozDcoO6"
      },
      "source": [
        "#### Lower Case \n",
        "he `lower()` method returns the string in lower case:"
      ]
    },
    {
      "cell_type": "code",
      "metadata": {
        "id": "ycL3JW3JcoO-",
        "outputId": "5d5b2723-171b-4fad-d16a-773c0ebc0d15"
      },
      "source": [
        "string = 'Python'\n",
        "print(string.lower())"
      ],
      "execution_count": null,
      "outputs": [
        {
          "output_type": "stream",
          "text": [
            "python\n"
          ],
          "name": "stdout"
        }
      ]
    },
    {
      "cell_type": "markdown",
      "metadata": {
        "id": "LBPSCL8-coPA"
      },
      "source": [
        "#### Remove Whitespace \n",
        "Whitespace is the space before and/or after the actual text, and very often you want to remove this space.\n",
        "\n",
        "The `strip()` method removes any whitespace from the beginning or the end:\n"
      ]
    },
    {
      "cell_type": "code",
      "metadata": {
        "id": "RBl_hOtkcoPB",
        "outputId": "5c531518-c886-40e0-81e1-eb695111db80"
      },
      "source": [
        "string = \"   Python is easy   \"\n",
        "\n",
        "print(string) # With whitespace\n",
        "print(string.strip()) #Without whitespace"
      ],
      "execution_count": null,
      "outputs": [
        {
          "output_type": "stream",
          "text": [
            "   Python is easy   \n",
            "Python is easy\n"
          ],
          "name": "stdout"
        }
      ]
    },
    {
      "cell_type": "markdown",
      "metadata": {
        "id": "8PvoNA51coPB"
      },
      "source": [
        "#### Replace String \n",
        "The `replace()` method replaces a string with another string.\n",
        "\n",
        "Syntax `string.replace(oldvalue, newvalue, count)`\n",
        "\n",
        "Parameter Values\n",
        "- oldvalue\tRequired. The string to search for\n",
        "- newvalue\tRequired. The string to replace the old value with\n",
        "- count\tOptional. A number specifying how many occurrences of the old value you want to replace. Default is all occurrences"
      ]
    },
    {
      "cell_type": "code",
      "metadata": {
        "id": "z1pD06jUcoPB",
        "outputId": "4459aa34-d939-4761-f2b8-ec8c5edaaa89"
      },
      "source": [
        "string = \"Pomegranate, Kiwi, Orange, Pomegranate, Grape, Lime, Pomegranate\"\n",
        "new_string = string.replace(\"Pomegranate\", \"Apricot\", 2)\n",
        "print(new_string)"
      ],
      "execution_count": null,
      "outputs": [
        {
          "output_type": "stream",
          "text": [
            "Apricot, Kiwi, Orange, Apricot, Grape, Lime, Pomegranate\n"
          ],
          "name": "stdout"
        }
      ]
    },
    {
      "cell_type": "markdown",
      "metadata": {
        "id": "fmhacbUvcoPC"
      },
      "source": [
        "###  Task \n",
        "You have such a string \n",
        "\n",
        "`string = '   London is the capital and popular city of England and the United Kingdom.The city stands on the lake Thames in southeast England, at the head of its 50-mile estuary leading to the North Sea   '`\n",
        "\n",
        "You have to get such a new string.\n",
        "\n",
        "`new_string = 'LONDON IS THE CAPITAL AND POPULAR CITY OF ENGLAND AND THE UNITED KINGDOM.\\nTHE CITY STANDS ON THE LAKE THAMES IN SOUTHEAST ENGLAND, AT THE HEAD OF ITS 50-MILE ESTUARY LEADING TO THE NORTH SEA'`"
      ]
    },
    {
      "cell_type": "code",
      "metadata": {
        "id": "K13GXEsEcoPC",
        "outputId": "b22bbd49-72f4-4806-9483-0da971914ce2"
      },
      "source": [
        "string = '''   London is the capital and popular city of England and the United Kingdom.\n",
        "The city stands on the lake Thames in southeast England, at the head of its 50-mile estuary leading to the North Sea   '''\n",
        "new_string = string.strip()\n",
        "new_string = new_string.upper()\n",
        "new_string = new_string.replace('popular', 'largest')\n",
        "new_string = new_string.replace('lake', 'river')\n",
        "new_string = new_string.replace('50-mile estuary', '70-mile estuary')\n",
        "new_string"
      ],
      "execution_count": null,
      "outputs": [
        {
          "output_type": "execute_result",
          "data": {
            "text/plain": [
              "'LONDON IS THE CAPITAL AND POPULAR CITY OF ENGLAND AND THE UNITED KINGDOM.\\nTHE CITY STANDS ON THE LAKE THAMES IN SOUTHEAST ENGLAND, AT THE HEAD OF ITS 50-MILE ESTUARY LEADING TO THE NORTH SEA'"
            ]
          },
          "metadata": {
            "tags": []
          },
          "execution_count": 256
        }
      ]
    },
    {
      "cell_type": "markdown",
      "metadata": {
        "id": "Bk6honC0coPD"
      },
      "source": [
        "### Split String\n"
      ]
    },
    {
      "cell_type": "markdown",
      "metadata": {
        "id": "6Qxr-S7WcoPD"
      },
      "source": [
        "`split()` method -- split a string into a list of strings after breaking the given string by the specified separator.\n",
        "\n",
        "\n",
        "**A list is an ordered and mutable Python container, being one of the most common data structures in Python.**\n",
        "\n",
        "Syntax : `str.split(separator, maxsplit)`\n",
        "\n",
        "Parameters :\n",
        "- separator : This is a delimiter. The string splits at this specified separator. If is not provided then any white space is a separator.\n",
        "\n",
        "- maxsplit : It is a number, which tells us to split the string into maximum of provided number of times. If it is not provided then the default is -1 that means there is no limit.\n",
        "\n",
        "Return value : `a list of strings after breaking the given string by the specified separator.`"
      ]
    },
    {
      "cell_type": "code",
      "metadata": {
        "id": "IGx7e9vDcoPE",
        "outputId": "600d51a9-79c7-4739-8035-139e1e70cd32"
      },
      "source": [
        "string = 'Blueberry Raspberry Strawberry Avocado'\n",
        "  \n",
        "# Splits at space\n",
        "print(string.split())"
      ],
      "execution_count": null,
      "outputs": [
        {
          "output_type": "stream",
          "text": [
            "['Blueberry', 'Raspberry', 'Strawberry', 'Avocado']\n"
          ],
          "name": "stdout"
        }
      ]
    },
    {
      "cell_type": "code",
      "metadata": {
        "id": "saQSQTukcoPE",
        "outputId": "a69af77a-5c7f-4aeb-c92f-59c5946aaec9"
      },
      "source": [
        "string = 'Blueberry, Raspberry, Strawberry, Avocado'\n",
        "  \n",
        "# Splits at ','\n",
        "print(string.split(','))\n"
      ],
      "execution_count": null,
      "outputs": [
        {
          "output_type": "stream",
          "text": [
            "['Blueberry', ' Raspberry', ' Strawberry', ' Avocado']\n"
          ],
          "name": "stdout"
        }
      ]
    },
    {
      "cell_type": "code",
      "metadata": {
        "id": "31RdgHnicoPF",
        "outputId": "2c2d6311-cc63-4d4d-8902-c6229a33964e"
      },
      "source": [
        "string = 'Blueberry:Raspberry:Strawberry:Avocado'\n",
        "  \n",
        "# Splitting at ':'\n",
        "print(string.split(':'))"
      ],
      "execution_count": null,
      "outputs": [
        {
          "output_type": "stream",
          "text": [
            "['Blueberry', 'Raspberry', 'Strawberry', 'Avocado']\n"
          ],
          "name": "stdout"
        }
      ]
    },
    {
      "cell_type": "code",
      "metadata": {
        "id": "9nolU50VcoPF",
        "outputId": "29277e95-4956-49cf-bb5b-fc91953833ad"
      },
      "source": [
        "string = 'BlueberryorRaspberryorStrawberryorAvocado'\n",
        "  \n",
        "# Splitting at or\n",
        "print(string.split('or'))"
      ],
      "execution_count": null,
      "outputs": [
        {
          "output_type": "stream",
          "text": [
            "['Blueberry', 'Raspberry', 'Strawberry', 'Avocado']\n"
          ],
          "name": "stdout"
        }
      ]
    },
    {
      "cell_type": "code",
      "metadata": {
        "id": "5Sq-q9a1coPF",
        "outputId": "aab42d5d-2eaf-4835-e914-cb0e4896d0bb"
      },
      "source": [
        "string = 'Blueberry, Raspberry, Strawberry, Avocado'\n",
        "  \n",
        "# maxsplit: 2\n",
        "print(string.split(', ', 2))\n",
        "  \n",
        "# maxsplit: 4\n",
        "print(string.split(', ', 3))\n",
        "  \n",
        "# maxsplit: 1\n",
        "print(string.split(', ', 1))"
      ],
      "execution_count": null,
      "outputs": [
        {
          "output_type": "stream",
          "text": [
            "['Blueberry', 'Raspberry', 'Strawberry, Avocado']\n",
            "['Blueberry', 'Raspberry', 'Strawberry', 'Avocado']\n",
            "['Blueberry', 'Raspberry, Strawberry, Avocado']\n"
          ],
          "name": "stdout"
        }
      ]
    },
    {
      "cell_type": "markdown",
      "metadata": {
        "id": "EX0G-Qu-coPG"
      },
      "source": [
        "### Task\n",
        "You have such a string \n",
        "\n",
        "string = 'Italy, officially the Italian Republic, is a country consisting of a peninsula delimited by the Alps and several islands surrounding it. Italy is located in the center of the Mediterranean Sea, in Southern Europe, and is also often considered part of Western Europe.'\n",
        "\n",
        "You have to get such lists:\n",
        "`['Italy', 'officially the Italian Republic', 'is a country consisting of a peninsula delimited by the Alps and several islands surrounding it. \\nItaly is located in the center of the Mediterranean Sea, in Southern Europe, and is also often considered part of Western Europe.']`\n",
        "\n",
        "`['Italy, officially the Italian Republic, ', 'a country consisting of a peninsula delimited by the Alps and several islands surrounding it. \\nItaly ', 'located in the center of the Mediterranean Sea, in Southern Europe, and ', 'also often considered part of Western Europe.']`\n"
      ]
    },
    {
      "cell_type": "code",
      "metadata": {
        "id": "FbUHj8XVcoPG",
        "outputId": "6c6b3166-21e2-4c6c-a0b6-945a5ccf1928"
      },
      "source": [
        "string = '''Italy, officially the Italian Republic, is a country consisting of a peninsula delimited by the Alps and several islands surrounding it. \n",
        "Italy is located in the center of the Mediterranean Sea, in Southern Europe, and is also often considered part of Western Europe.'''  \n",
        "\n",
        "print(string.split(', ', 2))\n",
        "  \n",
        "# maxsplit: 4\n",
        "print(string.split('is ', 3))"
      ],
      "execution_count": null,
      "outputs": [
        {
          "output_type": "stream",
          "text": [
            "['Italy', 'officially the Italian Republic', 'is a country consisting of a peninsula delimited by the Alps and several islands surrounding it. \\nItaly is located in the center of the Mediterranean Sea, in Southern Europe, and is also often considered part of Western Europe.']\n",
            "['Italy, officially the Italian Republic, ', 'a country consisting of a peninsula delimited by the Alps and several islands surrounding it. \\nItaly ', 'located in the center of the Mediterranean Sea, in Southern Europe, and ', 'also often considered part of Western Europe.']\n"
          ],
          "name": "stdout"
        }
      ]
    },
    {
      "cell_type": "markdown",
      "metadata": {
        "id": "PIUYpZWMcoPG"
      },
      "source": [
        "### String Concatenation"
      ]
    },
    {
      "cell_type": "markdown",
      "metadata": {
        "id": "z3n38PX5coPG"
      },
      "source": [
        "When the `+` operator is applied to strings, it means `concatenation`."
      ]
    },
    {
      "cell_type": "code",
      "metadata": {
        "id": "ryybfC6ecoPG",
        "outputId": "bfeb5d61-f27c-49e4-e4ed-ff57ff20cec3"
      },
      "source": [
        "string_1 = 'hello'\n",
        "string_2 = 'World'\n",
        "print(string_1 + ', ' + string_2)"
      ],
      "execution_count": null,
      "outputs": [
        {
          "output_type": "stream",
          "text": [
            "hello, World\n"
          ],
          "name": "stdout"
        }
      ]
    },
    {
      "cell_type": "markdown",
      "metadata": {
        "id": "JayeFRgCcoPH"
      },
      "source": [
        "### Task\n",
        "You have such strings\n",
        "\n",
        " `Kiwi`, `Lemon`, `Papaya`, `Coconut`.\n",
        "\n",
        "You have to get such list\n",
        "\n",
        "`['KIWI', 'Jackfruit', 'PAPAYA', 'COCONUT']`\n"
      ]
    },
    {
      "cell_type": "code",
      "metadata": {
        "id": "xIkmVmUCcoPH",
        "outputId": "fe15f843-a26e-4b49-82cb-19febee8553b"
      },
      "source": [
        "str_1 = 'Kiwi '\n",
        "str_2 = 'Lemon '\n",
        "str_3 = 'Papaya '\n",
        "str_4 = 'Coconut'\n",
        "\n",
        "string = str_1 + str_2 + str_3 + str_4\n",
        "new_string = string.upper()\n",
        "new_string = new_string.replace('LEMON ', 'Jackfruit ')\n",
        "list_ = new_string.split(' ')\n",
        "list_"
      ],
      "execution_count": null,
      "outputs": [
        {
          "output_type": "execute_result",
          "data": {
            "text/plain": [
              "['KIWI', 'Jackfruit', 'PAPAYA', 'COCONUT']"
            ]
          },
          "metadata": {
            "tags": []
          },
          "execution_count": 298
        }
      ]
    },
    {
      "cell_type": "markdown",
      "metadata": {
        "id": "aupx17C_coPH"
      },
      "source": [
        "### Searching a String\n",
        "- We use the `find()` function to search for a substring within another string.\n",
        "- `find()` finds the first occirrence of the substring\n",
        "- If the substring is not found, `find()` returns `-1`\n",
        "\n",
        "**Remember** that string position starts at zero. \n"
      ]
    },
    {
      "cell_type": "code",
      "metadata": {
        "id": "5Wr0gpUUcoPI",
        "outputId": "b69ccd9a-1acb-4e48-b7f5-584c35647350"
      },
      "source": [
        "string = 'Jackfruit, Coconut'\n",
        "position_1 = string.find('C')\n",
        "position_2 = string.find('c')\n",
        "print(f'the position of \"C\" is {position_1}, and the position of \"c\" is {position_2}')"
      ],
      "execution_count": null,
      "outputs": [
        {
          "output_type": "stream",
          "text": [
            "the position of \"C\" is 11, and the position of \"c\" is 2\n"
          ],
          "name": "stdout"
        }
      ]
    },
    {
      "cell_type": "code",
      "metadata": {
        "id": "q9cUiUbScoPI"
      },
      "source": [
        ""
      ],
      "execution_count": null,
      "outputs": []
    },
    {
      "cell_type": "code",
      "metadata": {
        "id": "5VFLPgWBcoPI"
      },
      "source": [
        ""
      ],
      "execution_count": null,
      "outputs": []
    },
    {
      "cell_type": "code",
      "metadata": {
        "id": "Xp_aG3qdcoPI"
      },
      "source": [
        ""
      ],
      "execution_count": null,
      "outputs": []
    }
  ]
}
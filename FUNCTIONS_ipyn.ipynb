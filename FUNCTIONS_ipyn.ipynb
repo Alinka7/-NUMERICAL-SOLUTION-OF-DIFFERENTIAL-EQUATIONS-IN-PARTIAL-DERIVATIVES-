{
  "nbformat": 4,
  "nbformat_minor": 0,
  "metadata": {
    "colab": {
      "name": "FUNCTIONS.ipyn",
      "provenance": [],
      "collapsed_sections": [],
      "authorship_tag": "ABX9TyNBbgOP132BeKd4C7+mQB/t",
      "include_colab_link": true
    },
    "kernelspec": {
      "name": "python3",
      "display_name": "Python 3"
    },
    "language_info": {
      "name": "python"
    }
  },
  "cells": [
    {
      "cell_type": "markdown",
      "metadata": {
        "id": "view-in-github",
        "colab_type": "text"
      },
      "source": [
        "<a href=\"https://colab.research.google.com/github/Alinka7/-NUMERICAL-SOLUTION-OF-DIFFERENTIAL-EQUATIONS-IN-PARTIAL-DERIVATIVES-/blob/master/FUNCTIONS_ipyn.ipynb\" target=\"_parent\"><img src=\"https://colab.research.google.com/assets/colab-badge.svg\" alt=\"Open In Colab\"/></a>"
      ]
    },
    {
      "cell_type": "markdown",
      "metadata": {
        "id": "fEBg5gola9FG"
      },
      "source": [
        "Functions are one of the most important components of any programming language Functions make program development more efficient and easier to manage. "
      ]
    },
    {
      "cell_type": "markdown",
      "metadata": {
        "id": "o9suNZhZbmLd"
      },
      "source": [
        "**What is a function?**\n",
        "There are many situations in programm that you need to repeat a particular task many times. Consider program to calculate the square root of a number. Imagine a situation when you need to calculate the square root of a number in different places of an algorithm.The question is, do you need to type the entire program every time\n",
        "that you need to calculate the square root of a number in different places?\n",
        "Of course, the answer is no.\n",
        "That would be very time consuming and very inefficient.\n",
        "So, what is the solution?\n",
        "The solution is that you can give a name to a piece of code,\n",
        "and every time that you need it, just refer to it.\n",
        "In technical terms, when you give a name to a piece of code which\n",
        "does a particular task, you are defining a function,\n",
        "and every time that you want to execute that piece of code,\n",
        "you call the function."
      ]
    },
    {
      "cell_type": "markdown",
      "metadata": {
        "id": "4CrP-xV_chsS"
      },
      "source": [
        "Let's see what is the Python function format. In Python a function is defined using the `def` keyword."
      ]
    },
    {
      "cell_type": "code",
      "metadata": {
        "id": "tZG5e30ddDm2"
      },
      "source": [
        "def function():\n",
        "  print(\"This is a function.\")"
      ],
      "execution_count": null,
      "outputs": []
    },
    {
      "cell_type": "markdown",
      "metadata": {
        "id": "r3yLlDtfdWAG"
      },
      "source": [
        "For calling aq function, use the function name followed by parenthesis"
      ]
    },
    {
      "cell_type": "code",
      "metadata": {
        "colab": {
          "base_uri": "https://localhost:8080/"
        },
        "id": "FkkQWpv5dc4l",
        "outputId": "ff5a92ae-9c68-4cb7-8550-63e7063b3943"
      },
      "source": [
        "def function():\n",
        "  print(\"This is a function.\")\n",
        "  \n",
        "function()"
      ],
      "execution_count": null,
      "outputs": [
        {
          "output_type": "stream",
          "text": [
            "This is a function.\n"
          ],
          "name": "stdout"
        }
      ]
    },
    {
      "cell_type": "markdown",
      "metadata": {
        "id": "d6ukVoMidjUu"
      },
      "source": [
        "Let's sum up!\n",
        "A function is a block of code which runs when we call it."
      ]
    },
    {
      "cell_type": "markdown",
      "metadata": {
        "id": "5VaRnWs-d1lx"
      },
      "source": [
        "**TASK**\n",
        "\n",
        "You have to implement a function which return such data: `hello, my name is Ann`.\n"
      ]
    },
    {
      "cell_type": "code",
      "metadata": {
        "colab": {
          "base_uri": "https://localhost:8080/"
        },
        "id": "1dxhXZJTeGyC",
        "outputId": "c258ff06-ee4c-49ef-e6df-78d87e7db449"
      },
      "source": [
        "def function():\n",
        "  print('hello, my name is Ann')\n",
        "function()"
      ],
      "execution_count": null,
      "outputs": [
        {
          "output_type": "stream",
          "text": [
            "hello, my name is Ann\n"
          ],
          "name": "stdout"
        }
      ]
    },
    {
      "cell_type": "markdown",
      "metadata": {
        "id": "yseyOCQ6eOdF"
      },
      "source": [
        "Let's complicate the task. Let's enter a variable that takes the values of different names\n",
        "\n",
        "\n"
      ]
    },
    {
      "cell_type": "code",
      "metadata": {
        "colab": {
          "base_uri": "https://localhost:8080/"
        },
        "id": "mZ21aA2Det6y",
        "outputId": "477f5dba-9129-4efc-e3cd-4f04cb5d91ff"
      },
      "source": [
        "def function():\n",
        "  name = 'Ann'\n",
        "  print(f'hello, my name is {name}')\n",
        "function()"
      ],
      "execution_count": null,
      "outputs": [
        {
          "output_type": "stream",
          "text": [
            "hello, my name is Ann\n"
          ],
          "name": "stdout"
        }
      ]
    },
    {
      "cell_type": "markdown",
      "metadata": {
        "id": "hLEzh3Jke6uK"
      },
      "source": [
        "**TASK**\n",
        "\n",
        "You need to implement the function of calculating the sum of three numbers .\n",
        "Le's take such values: `a = 5, b = 455, c = 23`\n",
        "\n"
      ]
    },
    {
      "cell_type": "code",
      "metadata": {
        "colab": {
          "base_uri": "https://localhost:8080/"
        },
        "id": "x0wi_0-ge78l",
        "outputId": "db1f68d0-9034-47e2-94a2-d64b9c3230a8"
      },
      "source": [
        "def function_adding():\n",
        "  a = 5\n",
        "  b = 455\n",
        "  c = 23\n",
        "  print(f'the sum of {a}, {b}, {c} is {a+b+c}')\n",
        "\n",
        "function_adding()"
      ],
      "execution_count": null,
      "outputs": [
        {
          "output_type": "stream",
          "text": [
            "the sum of 5, 455, 23 is 483\n"
          ],
          "name": "stdout"
        }
      ]
    },
    {
      "cell_type": "markdown",
      "metadata": {
        "id": "24ldq7azgEzd"
      },
      "source": [
        "**ARGUMENTS**\n",
        "\n",
        "Information can be passed into functions as arguments.\n",
        "\n",
        "Arguments are specified after the fuction name, inside the parentheses. You can add as many arguments as you want, just separate them with a comma.\n",
        "\n",
        "Let's look at the example.\n",
        "\n"
      ]
    },
    {
      "cell_type": "code",
      "metadata": {
        "colab": {
          "base_uri": "https://localhost:8080/"
        },
        "id": "g8w_qw-dgvJN",
        "outputId": "b5b80468-7a5d-4ea7-a350-55145e14f698"
      },
      "source": [
        "def function(name):\n",
        "  print(f'hello, my name is {name}')\n",
        "\n",
        "function('Ann')"
      ],
      "execution_count": null,
      "outputs": [
        {
          "output_type": "stream",
          "text": [
            "hello, my name is Ann\n"
          ],
          "name": "stdout"
        }
      ]
    },
    {
      "cell_type": "markdown",
      "metadata": {
        "id": "0q71rACtg8FS"
      },
      "source": [
        "explanation"
      ]
    },
    {
      "cell_type": "code",
      "metadata": {
        "colab": {
          "base_uri": "https://localhost:8080/"
        },
        "id": "5rAKcAo1hlVx",
        "outputId": "f82549ed-b496-42e6-e84f-72c754e45300"
      },
      "source": [
        "def function_adding(a, b, c):\n",
        "  print(f'the sum of {a}, {b}, {c} is {a+b+c}')\n",
        "\n",
        "function_adding(4, 455, 23)"
      ],
      "execution_count": null,
      "outputs": [
        {
          "output_type": "stream",
          "text": [
            "the sum of 4, 455, 23 is 482\n"
          ],
          "name": "stdout"
        }
      ]
    },
    {
      "cell_type": "markdown",
      "metadata": {
        "id": "dbf4T4nUhurU"
      },
      "source": [
        "**TASK** \n",
        "\n",
        "You have to implement a function that accepts a number as argument and returns the square of the number.\n",
        "\n",
        "For example if the number passed to the function is 6 then your function should return 36.\n",
        "\n",
        "Write function with argument."
      ]
    },
    {
      "cell_type": "code",
      "metadata": {
        "colab": {
          "base_uri": "https://localhost:8080/"
        },
        "id": "VKDksRTmhwVs",
        "outputId": "6e2e91cc-9bff-42a1-e27f-a5817377a93a"
      },
      "source": [
        "def square(x):\n",
        "  print(f'the square of the {x} is {x*x}')\n",
        "\n",
        "square(6)"
      ],
      "execution_count": null,
      "outputs": [
        {
          "output_type": "stream",
          "text": [
            "the square of the 6 is 36\n"
          ],
          "name": "stdout"
        }
      ]
    },
    {
      "cell_type": "markdown",
      "metadata": {
        "id": "vikCZ4AuiquI"
      },
      "source": [
        "**TASK**\n",
        "\n",
        "You have to implement a function that accepts a number as input argument and subtract 100 from it and returns the resulting number.\n",
        "\n"
      ]
    },
    {
      "cell_type": "code",
      "metadata": {
        "colab": {
          "base_uri": "https://localhost:8080/"
        },
        "id": "h9gjzJZviqFW",
        "outputId": "50121ffc-1d91-4447-aa26-557291440522"
      },
      "source": [
        "def function(x):\n",
        "  print(f'the resulting number is {x-100}')\n",
        "\n",
        "function(6)"
      ],
      "execution_count": null,
      "outputs": [
        {
          "output_type": "stream",
          "text": [
            "the resulting number is -94\n"
          ],
          "name": "stdout"
        }
      ]
    },
    {
      "cell_type": "markdown",
      "metadata": {
        "id": "SKfnzmaAjR5X"
      },
      "source": [
        "**TASK**\n",
        "\n",
        "You have to implement a function that accepts a list of floats and returns the sum of all the numbers in the list. Take an integer of the resulting number.\n",
        "\n",
        "DO NOT USE the built-in sum() funcion."
      ]
    },
    {
      "cell_type": "code",
      "metadata": {
        "colab": {
          "base_uri": "https://localhost:8080/"
        },
        "id": "NAqIuqZvjS0q",
        "outputId": "4cdbcd71-3f5b-441b-c33f-840d996635d8"
      },
      "source": [
        "def function(list_):\n",
        "  sum_ = 0\n",
        "  for i in list_:\n",
        "    sum_ += i\n",
        "  print(int(sum_))\n",
        "\n",
        "function([2.3,5.5423,7.1,2.434])"
      ],
      "execution_count": null,
      "outputs": [
        {
          "output_type": "stream",
          "text": [
            "17\n"
          ],
          "name": "stdout"
        }
      ]
    },
    {
      "cell_type": "markdown",
      "metadata": {
        "id": "taWl4vYMFnHm"
      },
      "source": [
        "**TASK**\n",
        "\n",
        "You have to implement a function which accepts an input a list of integer numbers and return a list which icludes only even numbers, If there are no even numbers in the input numbers then your function should return an empty list."
      ]
    },
    {
      "cell_type": "code",
      "metadata": {
        "colab": {
          "base_uri": "https://localhost:8080/"
        },
        "id": "RD9dEcAnGSBc",
        "outputId": "860e0764-1c2a-4f51-8bce-5abaca14ba9b"
      },
      "source": [
        "def even_numbers(list__):\n",
        "  l = []\n",
        "  for i in list__:\n",
        "    if i % 2 == 0:\n",
        "      l.append(i)\n",
        "  return l\n",
        "\n",
        "even_numbers([1, 5, 6, 7, 3, 34, 26])"
      ],
      "execution_count": null,
      "outputs": [
        {
          "output_type": "execute_result",
          "data": {
            "text/plain": [
              "[6, 34, 26]"
            ]
          },
          "metadata": {
            "tags": []
          },
          "execution_count": 5
        }
      ]
    },
    {
      "cell_type": "markdown",
      "metadata": {
        "id": "SV26ju7RHI1V"
      },
      "source": [
        "**PARAMETERS OR ARGUMENTS?**\n",
        "\n",
        "A parameter is the variable listed inside the parentheses in the function definition.\n",
        "\n",
        "An argument is the value that is sent to the function when it is called."
      ]
    },
    {
      "cell_type": "markdown",
      "metadata": {
        "id": "d7GLYPEuHUb2"
      },
      "source": [
        "**Number of Arguments**\n",
        "\n",
        "By default, a function must be called with the correct number of arguments. Meaning that if your function expects 2 arguments, you have to call the function with 2 arguments, not more, and not less."
      ]
    },
    {
      "cell_type": "code",
      "metadata": {
        "colab": {
          "base_uri": "https://localhost:8080/"
        },
        "id": "6A0BK3ZSHert",
        "outputId": "f8585fb6-c82c-4898-865e-1766e7de830f"
      },
      "source": [
        "def function(name, age):\n",
        "  print(f'hello, my name is {name}. I am {age} years old.')\n",
        "\n",
        "function('Alex', 12)"
      ],
      "execution_count": null,
      "outputs": [
        {
          "output_type": "stream",
          "text": [
            "hello, my name is Alex. I am 12 years old.\n"
          ],
          "name": "stdout"
        }
      ]
    },
    {
      "cell_type": "code",
      "metadata": {
        "id": "FU9U7cjjHmEs"
      },
      "source": [
        ""
      ],
      "execution_count": null,
      "outputs": []
    }
  ]
}